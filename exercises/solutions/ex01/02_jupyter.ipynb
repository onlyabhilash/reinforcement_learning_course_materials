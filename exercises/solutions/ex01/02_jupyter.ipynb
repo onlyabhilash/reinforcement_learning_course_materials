{
  "cells": [
    {
      "cell_type": "markdown",
      "metadata": {
        "id": "view-in-github",
        "colab_type": "text"
      },
      "source": [
        "<a href=\"https://colab.research.google.com/github/onlyabhilash/reinforcement_learning_course_materials/blob/main/exercises/solutions/ex01/02_jupyter.ipynb\" target=\"_parent\"><img src=\"https://colab.research.google.com/assets/colab-badge.svg\" alt=\"Open In Colab\"/></a>"
      ]
    },
    {
      "cell_type": "markdown",
      "metadata": {
        "id": "UMCGTxw4PaAw"
      },
      "source": [
        "# Jupyter Notebook"
      ]
    },
    {
      "cell_type": "markdown",
      "metadata": {
        "id": "DjCk8z04PaA-"
      },
      "source": [
        "## Introduction\n",
        "\n",
        "Documentation: https://jupyter-notebook.readthedocs.io/en/stable/\n",
        "\n",
        "Introduction to Jupyter Notebooks: [Youtube Video](https://www.youtube.com/embed/q_BzsPxwLOE)"
      ]
    },
    {
      "cell_type": "markdown",
      "metadata": {
        "id": "C3lrrCFBPaBA"
      },
      "source": [
        "# 1 Heading\n",
        "\n",
        "This is a markdown cell."
      ]
    },
    {
      "cell_type": "markdown",
      "metadata": {
        "id": "QS4UNXqNPaBC"
      },
      "source": [
        "## 1.1 Heading"
      ]
    },
    {
      "cell_type": "markdown",
      "metadata": {
        "id": "p1QVgd7UPaBD"
      },
      "source": [
        "### 1.1.1 Heading"
      ]
    },
    {
      "cell_type": "markdown",
      "metadata": {
        "id": "ohj4KTuaPaBE"
      },
      "source": [
        "#### 1.1.1.1 Heading"
      ]
    },
    {
      "cell_type": "markdown",
      "metadata": {
        "id": "VkwL9g7-PaBG"
      },
      "source": [
        "### Enumeration\n",
        "\n",
        "* first point\n",
        "* second point\n",
        "* third point"
      ]
    },
    {
      "cell_type": "markdown",
      "metadata": {
        "id": "jy9-18EEPaBI"
      },
      "source": [
        "### Table\n",
        "\n",
        "| a | b | c |\n",
        "|---|---|---|\n",
        "|entry a|entry b|entry c|"
      ]
    },
    {
      "cell_type": "code",
      "execution_count": null,
      "metadata": {
        "id": "q2ZO1w2yPaBJ"
      },
      "outputs": [],
      "source": []
    }
  ],
  "metadata": {
    "kernelspec": {
      "display_name": "Python 3",
      "language": "python",
      "name": "python3"
    },
    "language_info": {
      "codemirror_mode": {
        "name": "ipython",
        "version": 3
      },
      "file_extension": ".py",
      "mimetype": "text/x-python",
      "name": "python",
      "nbconvert_exporter": "python",
      "pygments_lexer": "ipython3",
      "version": "3.6.10"
    },
    "colab": {
      "provenance": [],
      "include_colab_link": true
    }
  },
  "nbformat": 4,
  "nbformat_minor": 0
}