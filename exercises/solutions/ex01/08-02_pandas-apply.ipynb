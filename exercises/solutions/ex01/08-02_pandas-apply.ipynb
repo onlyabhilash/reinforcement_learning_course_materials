{
 "cells": [
  {
   "cell_type": "markdown",
   "metadata": {
    "slideshow": {
     "slide_type": "slide"
    }
   },
   "source": [
    "# Advanced Pandas functionality \n",
    "## - DataFrame.apply()"
   ]
  },
  {
   "cell_type": "markdown",
   "metadata": {
    "slideshow": {
     "slide_type": "slide"
    }
   },
   "source": [
    "## Introduction\n",
    "* We now try to use Pandas DataFrames to hold objects instead of numbers\n",
    "* Process all Columns or Rows using the .apply .applymap methods"
   ]
  },
  {
   "cell_type": "code",
   "execution_count": 2,
   "metadata": {
    "slideshow": {
     "slide_type": "-"
    }
   },
   "outputs": [],
   "source": [
    "import numpy as np\n",
    "import pandas as pd\n",
    "import matplotlib.pyplot as plt"
   ]
  },
  {
   "cell_type": "markdown",
   "metadata": {
    "slideshow": {
     "slide_type": "slide"
    }
   },
   "source": [
    "### Preparing test data"
   ]
  },
  {
   "cell_type": "markdown",
   "metadata": {
    "slideshow": {
     "slide_type": "-"
    }
   },
   "source": [
    "First we generate some objects, namely 100 numpy arrays containing 500 random values each:"
   ]
  },
  {
   "cell_type": "code",
   "execution_count": 3,
   "metadata": {
    "slideshow": {
     "slide_type": "-"
    }
   },
   "outputs": [],
   "source": [
    "curves = [np.random.randn(500) for i in range(100)]"
   ]
  },
  {
   "cell_type": "markdown",
   "metadata": {
    "slideshow": {
     "slide_type": "subslide"
    }
   },
   "source": [
    "Then we generate some random ids for the curves (This could be Tube-IDs):"
   ]
  },
  {
   "cell_type": "code",
   "execution_count": 7,
   "metadata": {
    "slideshow": {
     "slide_type": "-"
    }
   },
   "outputs": [
    {
     "data": {
      "text/plain": [
       "array([95791, 10536, 11667, 87799, 77813, 17013, 92299, 79383, 72012,\n",
       "       62010, 46329, 76912, 46586, 43613, 71503, 94626, 18173, 94763,\n",
       "       82542, 65678, 82772, 13322, 73998, 65733, 17436, 60324, 92525,\n",
       "       60512, 76669, 24278, 97591, 59045, 29830, 49904, 54856, 46201,\n",
       "       38126, 75793, 96385, 22682, 75135, 98516, 66298, 12429, 19700,\n",
       "       46258, 94151, 95103, 14938, 43625, 21827, 29727, 94426, 56190,\n",
       "       58402, 28401, 85814, 41939, 93516, 92529, 15304, 58567, 46662,\n",
       "       30250, 48662, 68624, 74429, 34316, 18851, 30088, 33399, 10667,\n",
       "       94616, 82245, 43722, 86035, 72570, 38665, 12257, 43199, 39757,\n",
       "       77639, 79189, 38525, 27215, 90412, 40163, 17180, 92989, 46618,\n",
       "       86098, 91718, 89124, 56482, 93732, 10715, 70225, 77306, 81333,\n",
       "       45031])"
      ]
     },
     "execution_count": 7,
     "metadata": {},
     "output_type": "execute_result"
    }
   ],
   "source": [
    "ids = np.random.choice(range(10000, 99999), 100, replace=False)\n",
    "ids"
   ]
  },
  {
   "cell_type": "markdown",
   "metadata": {
    "slideshow": {
     "slide_type": "-"
    }
   },
   "source": [
    ".. and put everything into a Series:"
   ]
  },
  {
   "cell_type": "code",
   "execution_count": 13,
   "metadata": {
    "slideshow": {
     "slide_type": "-"
    }
   },
   "outputs": [],
   "source": [
    "s1 = pd.Series(data=curves, \n",
    "               index=ids, \n",
    "               name='first_sensor')"
   ]
  },
  {
   "cell_type": "markdown",
   "metadata": {
    "slideshow": {
     "slide_type": "subslide"
    }
   },
   "source": [
    "Finally we make a DataFrame from it:"
   ]
  },
  {
   "cell_type": "code",
   "execution_count": 12,
   "metadata": {
    "slideshow": {
     "slide_type": "-"
    }
   },
   "outputs": [
    {
     "data": {
      "text/html": [
       "<div>\n",
       "<style scoped>\n",
       "    .dataframe tbody tr th:only-of-type {\n",
       "        vertical-align: middle;\n",
       "    }\n",
       "\n",
       "    .dataframe tbody tr th {\n",
       "        vertical-align: top;\n",
       "    }\n",
       "\n",
       "    .dataframe thead th {\n",
       "        text-align: right;\n",
       "    }\n",
       "</style>\n",
       "<table border=\"1\" class=\"dataframe\">\n",
       "  <thead>\n",
       "    <tr style=\"text-align: right;\">\n",
       "      <th></th>\n",
       "      <th>first_sensor</th>\n",
       "    </tr>\n",
       "  </thead>\n",
       "  <tbody>\n",
       "    <tr>\n",
       "      <th>95791</th>\n",
       "      <td>[-0.5716952575541274, 1.7778626321389004, -0.4...</td>\n",
       "    </tr>\n",
       "    <tr>\n",
       "      <th>10536</th>\n",
       "      <td>[0.11897276069153193, -2.5669736761529625, 0.0...</td>\n",
       "    </tr>\n",
       "    <tr>\n",
       "      <th>11667</th>\n",
       "      <td>[-0.422082758736076, 0.41081164477728, -0.0143...</td>\n",
       "    </tr>\n",
       "    <tr>\n",
       "      <th>87799</th>\n",
       "      <td>[-0.3408294123948597, 0.08930234596120788, -2....</td>\n",
       "    </tr>\n",
       "    <tr>\n",
       "      <th>77813</th>\n",
       "      <td>[-0.445148777114281, 1.671665999975721, 2.2570...</td>\n",
       "    </tr>\n",
       "  </tbody>\n",
       "</table>\n",
       "</div>"
      ],
      "text/plain": [
       "                                            first_sensor\n",
       "95791  [-0.5716952575541274, 1.7778626321389004, -0.4...\n",
       "10536  [0.11897276069153193, -2.5669736761529625, 0.0...\n",
       "11667  [-0.422082758736076, 0.41081164477728, -0.0143...\n",
       "87799  [-0.3408294123948597, 0.08930234596120788, -2....\n",
       "77813  [-0.445148777114281, 1.671665999975721, 2.2570..."
      ]
     },
     "execution_count": 12,
     "metadata": {},
     "output_type": "execute_result"
    }
   ],
   "source": [
    "df1 = s1.to_frame()\n",
    "df1.head(5)"
   ]
  },
  {
   "cell_type": "markdown",
   "metadata": {
    "slideshow": {
     "slide_type": "subslide"
    }
   },
   "source": [
    "For demonstration purposes we now add Measurements from a second sensor:"
   ]
  },
  {
   "cell_type": "code",
   "execution_count": 6,
   "metadata": {
    "slideshow": {
     "slide_type": "-"
    }
   },
   "outputs": [],
   "source": [
    "curves_from_sensor_2 = [np.random.randn(500) for i in range(100)]\n",
    "s2 = pd.Series(data=curves_from_sensor_2, \n",
    "               index=pd.Int64Index(ids, name='ID'), \n",
    "               name='second_sensor')\n",
    "df2 = s2.to_frame()"
   ]
  },
  {
   "cell_type": "code",
   "execution_count": 7,
   "metadata": {
    "slideshow": {
     "slide_type": "-"
    }
   },
   "outputs": [
    {
     "data": {
      "text/html": [
       "<div>\n",
       "<style scoped>\n",
       "    .dataframe tbody tr th:only-of-type {\n",
       "        vertical-align: middle;\n",
       "    }\n",
       "\n",
       "    .dataframe tbody tr th {\n",
       "        vertical-align: top;\n",
       "    }\n",
       "\n",
       "    .dataframe thead th {\n",
       "        text-align: right;\n",
       "    }\n",
       "</style>\n",
       "<table border=\"1\" class=\"dataframe\">\n",
       "  <thead>\n",
       "    <tr style=\"text-align: right;\">\n",
       "      <th></th>\n",
       "      <th>first_sensor</th>\n",
       "      <th>second_sensor</th>\n",
       "    </tr>\n",
       "    <tr>\n",
       "      <th>ID</th>\n",
       "      <th></th>\n",
       "      <th></th>\n",
       "    </tr>\n",
       "  </thead>\n",
       "  <tbody>\n",
       "    <tr>\n",
       "      <th>56544</th>\n",
       "      <td>[0.8114525441505623, -0.3217884672643395, 0.60...</td>\n",
       "      <td>[-0.9107989962672383, -1.0180821890732348, 0.7...</td>\n",
       "    </tr>\n",
       "    <tr>\n",
       "      <th>71891</th>\n",
       "      <td>[-0.26833609828743826, -0.22780342069485734, 0...</td>\n",
       "      <td>[-0.527631423555406, -0.6043961713463648, 0.45...</td>\n",
       "    </tr>\n",
       "  </tbody>\n",
       "</table>\n",
       "</div>"
      ],
      "text/plain": [
       "                                            first_sensor  \\\n",
       "ID                                                         \n",
       "56544  [0.8114525441505623, -0.3217884672643395, 0.60...   \n",
       "71891  [-0.26833609828743826, -0.22780342069485734, 0...   \n",
       "\n",
       "                                           second_sensor  \n",
       "ID                                                        \n",
       "56544  [-0.9107989962672383, -1.0180821890732348, 0.7...  \n",
       "71891  [-0.527631423555406, -0.6043961713463648, 0.45...  "
      ]
     },
     "execution_count": 7,
     "metadata": {},
     "output_type": "execute_result"
    }
   ],
   "source": [
    "df = df1.join(df2)\n",
    "df.head(2)"
   ]
  },
  {
   "cell_type": "code",
   "execution_count": null,
   "metadata": {},
   "outputs": [],
   "source": []
  },
  {
   "cell_type": "markdown",
   "metadata": {
    "slideshow": {
     "slide_type": "slide"
    }
   },
   "source": [
    "# Applying functions"
   ]
  },
  {
   "cell_type": "markdown",
   "metadata": {
    "slideshow": {
     "slide_type": "slide"
    }
   },
   "source": [
    "## 1. `DataFrame.apply()`\n",
    "We now want to calculate some summarizing statistics on the curves. Therefore we use `.apply()` on the dataframe. The function called by `.apply` gets the columns (`axis=0`) or the rows (`axis=1`) of the dataframe one by one as input."
   ]
  },
  {
   "cell_type": "code",
   "execution_count": 8,
   "metadata": {
    "scrolled": true,
    "slideshow": {
     "slide_type": "-"
    }
   },
   "outputs": [
    {
     "data": {
      "text/plain": [
       "ID\n",
       "56544    0.004345\n",
       "71891    0.021336\n",
       "Name: mean_of_first_sensor, dtype: float64"
      ]
     },
     "execution_count": 8,
     "metadata": {},
     "output_type": "execute_result"
    }
   ],
   "source": [
    "def _calculate_mean_of_sensor(row, column='first_sensor'):\n",
    "    single_curve = row[column]    \n",
    "    return np.mean(single_curve)\n",
    "\n",
    "# Axis=1 applies Row-Wise!!\n",
    "mean_of_first_sensor = df.apply(_calculate_mean_of_sensor, axis=1).rename('mean_of_first_sensor')\n",
    "mean_of_first_sensor.head(2)"
   ]
  },
  {
   "cell_type": "markdown",
   "metadata": {
    "slideshow": {
     "slide_type": "subslide"
    }
   },
   "source": [
    "A function can use multiple columns for calculation. Lets say we want to calculate the difference of the means from sensor 1 and sensor 2:"
   ]
  },
  {
   "cell_type": "code",
   "execution_count": 9,
   "metadata": {
    "slideshow": {
     "slide_type": "-"
    }
   },
   "outputs": [
    {
     "data": {
      "text/plain": [
       "ID\n",
       "56544    0.011244\n",
       "71891    0.035214\n",
       "Name: mean_difference, dtype: float64"
      ]
     },
     "execution_count": 9,
     "metadata": {},
     "output_type": "execute_result"
    }
   ],
   "source": [
    "def _get_mean_difference(row, first_sensor='first_sensor', second_sensor='second_sensor'):\n",
    "    sensor_1_curve = row[first_sensor]\n",
    "    sensor_2_curve = row[second_sensor]\n",
    "    \n",
    "    return np.abs(np.mean(sensor_1_curve) - np.mean(sensor_2_curve))\n",
    "\n",
    "mean_difference = df.apply(_get_mean_difference, axis=1).rename('mean_difference')\n",
    "mean_difference.head(2)"
   ]
  },
  {
   "cell_type": "markdown",
   "metadata": {
    "slideshow": {
     "slide_type": "subslide"
    }
   },
   "source": [
    "Functions can also have multiple outputs. In this case we return a pd.Series:"
   ]
  },
  {
   "cell_type": "code",
   "execution_count": 10,
   "metadata": {
    "slideshow": {
     "slide_type": "-"
    }
   },
   "outputs": [
    {
     "data": {
      "text/html": [
       "<div>\n",
       "<style scoped>\n",
       "    .dataframe tbody tr th:only-of-type {\n",
       "        vertical-align: middle;\n",
       "    }\n",
       "\n",
       "    .dataframe tbody tr th {\n",
       "        vertical-align: top;\n",
       "    }\n",
       "\n",
       "    .dataframe thead th {\n",
       "        text-align: right;\n",
       "    }\n",
       "</style>\n",
       "<table border=\"1\" class=\"dataframe\">\n",
       "  <thead>\n",
       "    <tr style=\"text-align: right;\">\n",
       "      <th></th>\n",
       "      <th>Mean_Curve_1</th>\n",
       "      <th>Mean_Curve_2</th>\n",
       "    </tr>\n",
       "    <tr>\n",
       "      <th>ID</th>\n",
       "      <th></th>\n",
       "      <th></th>\n",
       "    </tr>\n",
       "  </thead>\n",
       "  <tbody>\n",
       "    <tr>\n",
       "      <th>56544</th>\n",
       "      <td>0.004345</td>\n",
       "      <td>-0.006899</td>\n",
       "    </tr>\n",
       "    <tr>\n",
       "      <th>71891</th>\n",
       "      <td>0.021336</td>\n",
       "      <td>0.056549</td>\n",
       "    </tr>\n",
       "  </tbody>\n",
       "</table>\n",
       "</div>"
      ],
      "text/plain": [
       "       Mean_Curve_1  Mean_Curve_2\n",
       "ID                               \n",
       "56544      0.004345     -0.006899\n",
       "71891      0.021336      0.056549"
      ]
     },
     "execution_count": 10,
     "metadata": {},
     "output_type": "execute_result"
    }
   ],
   "source": [
    "def _get_mean_difference(row, first_sensor='first_sensor', second_sensor='second_sensor'):\n",
    "    sensor_1_curve = row[first_sensor]\n",
    "    sensor_2_curve = row[second_sensor]\n",
    "    mean_curve_1 = np.mean(sensor_1_curve)\n",
    "    mean_curve_2 = np.mean(sensor_2_curve)\n",
    " \n",
    "    return pd.Series({'Mean_Curve_1': mean_curve_1, 'Mean_Curve_2': mean_curve_2})\n",
    "\n",
    "means = df.apply(_get_mean_difference, axis=1)\n",
    "means.head(2)"
   ]
  },
  {
   "cell_type": "markdown",
   "metadata": {
    "slideshow": {
     "slide_type": "slide"
    }
   },
   "source": [
    "## 2. `DataFrame.applymap()`"
   ]
  },
  {
   "cell_type": "markdown",
   "metadata": {
    "slideshow": {
     "slide_type": "-"
    }
   },
   "source": [
    "If we want to apply the SAME function to ALL fields of the table, and not row or columnwise, we can use `.applymap()`. Here we calculate the length of each curve:"
   ]
  },
  {
   "cell_type": "code",
   "execution_count": 11,
   "metadata": {
    "slideshow": {
     "slide_type": "-"
    }
   },
   "outputs": [
    {
     "data": {
      "text/html": [
       "<div>\n",
       "<style scoped>\n",
       "    .dataframe tbody tr th:only-of-type {\n",
       "        vertical-align: middle;\n",
       "    }\n",
       "\n",
       "    .dataframe tbody tr th {\n",
       "        vertical-align: top;\n",
       "    }\n",
       "\n",
       "    .dataframe thead th {\n",
       "        text-align: right;\n",
       "    }\n",
       "</style>\n",
       "<table border=\"1\" class=\"dataframe\">\n",
       "  <thead>\n",
       "    <tr style=\"text-align: right;\">\n",
       "      <th></th>\n",
       "      <th>length_first_sensor</th>\n",
       "      <th>length_second_sensor</th>\n",
       "    </tr>\n",
       "    <tr>\n",
       "      <th>ID</th>\n",
       "      <th></th>\n",
       "      <th></th>\n",
       "    </tr>\n",
       "  </thead>\n",
       "  <tbody>\n",
       "    <tr>\n",
       "      <th>56544</th>\n",
       "      <td>500</td>\n",
       "      <td>500</td>\n",
       "    </tr>\n",
       "    <tr>\n",
       "      <th>71891</th>\n",
       "      <td>500</td>\n",
       "      <td>500</td>\n",
       "    </tr>\n",
       "  </tbody>\n",
       "</table>\n",
       "</div>"
      ],
      "text/plain": [
       "       length_first_sensor  length_second_sensor\n",
       "ID                                              \n",
       "56544                  500                   500\n",
       "71891                  500                   500"
      ]
     },
     "execution_count": 11,
     "metadata": {},
     "output_type": "execute_result"
    }
   ],
   "source": [
    "lengths = df.applymap(len).add_prefix('length_')\n",
    "lengths.head(2)"
   ]
  },
  {
   "cell_type": "markdown",
   "metadata": {
    "slideshow": {
     "slide_type": "slide"
    }
   },
   "source": [
    "## 3. Series.apply()\n",
    "`Series.apply()` applies the function simply to each field of the Series. This is very similar to `DataFrame.applymap()`"
   ]
  },
  {
   "cell_type": "code",
   "execution_count": 12,
   "metadata": {
    "slideshow": {
     "slide_type": "-"
    }
   },
   "outputs": [
    {
     "data": {
      "text/plain": [
       "ID\n",
       "56544    500\n",
       "71891    500\n",
       "Name: first_sensor, dtype: int64"
      ]
     },
     "execution_count": 12,
     "metadata": {},
     "output_type": "execute_result"
    }
   ],
   "source": [
    "s1.apply(len).head(2)"
   ]
  }
 ],
 "metadata": {
  "kernelspec": {
   "display_name": "Python 3",
   "language": "python",
   "name": "python3"
  },
  "language_info": {
   "codemirror_mode": {
    "name": "ipython",
    "version": 3
   },
   "file_extension": ".py",
   "mimetype": "text/x-python",
   "name": "python",
   "nbconvert_exporter": "python",
   "pygments_lexer": "ipython3",
   "version": "3.6.10"
  },
  "varInspector": {
   "cols": {
    "lenName": 16,
    "lenType": 16,
    "lenVar": 40
   },
   "kernels_config": {
    "python": {
     "delete_cmd_postfix": "",
     "delete_cmd_prefix": "del ",
     "library": "var_list.py",
     "varRefreshCmd": "print(var_dic_list())"
    },
    "r": {
     "delete_cmd_postfix": ") ",
     "delete_cmd_prefix": "rm(",
     "library": "var_list.r",
     "varRefreshCmd": "cat(var_dic_list()) "
    }
   },
   "types_to_exclude": [
    "module",
    "function",
    "builtin_function_or_method",
    "instance",
    "_Feature"
   ],
   "window_display": false
  }
 },
 "nbformat": 4,
 "nbformat_minor": 2
}
