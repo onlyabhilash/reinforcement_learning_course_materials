{
  "cells": [
    {
      "cell_type": "markdown",
      "metadata": {
        "id": "view-in-github",
        "colab_type": "text"
      },
      "source": [
        "<a href=\"https://colab.research.google.com/github/onlyabhilash/reinforcement_learning_course_materials/blob/main/exercises/templates/ex01/01_introduction.ipynb\" target=\"_parent\"><img src=\"https://colab.research.google.com/assets/colab-badge.svg\" alt=\"Open In Colab\"/></a>"
      ]
    },
    {
      "cell_type": "markdown",
      "metadata": {
        "deletable": false,
        "editable": false,
        "nbgrader": {
          "cell_type": "markdown",
          "checksum": "097296f545d3ec43da31eeb5627910ac",
          "grade": false,
          "grade_id": "cell-987c7a2f76744f44",
          "locked": true,
          "schema_version": 3,
          "solution": false,
          "task": false
        },
        "id": "uJ-dDpwQ6Mbw"
      },
      "source": [
        "# Introduction\n",
        "\n",
        "This first exercise is based on the python crashcourse offered by the department \"Nachrichtentechnik\" and \"Elektrische Messtechnik\".\n",
        "\n",
        "[Python Crash-Course](https://fgnt.github.io/python_crashkurs/#/)\n"
      ]
    },
    {
      "cell_type": "markdown",
      "metadata": {
        "deletable": false,
        "editable": false,
        "nbgrader": {
          "cell_type": "markdown",
          "checksum": "5d4113d70f9199211612a889e3d7600f",
          "grade": false,
          "grade_id": "cell-1fecd7143400f744",
          "locked": true,
          "schema_version": 3,
          "solution": false,
          "task": false
        },
        "id": "Go1jIWpH6Mb1"
      },
      "source": [
        "## MATLAB vs. Python\n",
        "\n",
        "|                             MATLAB                             |                                       Python                                       |\n",
        "|:--------------------------------------------------------------:|:----------------------------------------------------------------------------------:|\n",
        "|                           Commercial                           |                                    Open Source                                     |\n",
        "|     New functions via MATLAB Toolkits<br>(no package manager)     |        Installation of new modules with<br>package manager (conda or pip)         |\n",
        "| Mainly procedual programming<br>(Objects exists but are a hassle) |                                  Object oriented                                   |\n",
        "|               Mathematical Programming Language                |             General Purpose Language with<br>many mathematical modules              |\n",
        "|                No Namespaces for Core-Functions                |               Proper Namespaces (e.g. `plt.plot` instead of `plot`)                |\n",
        "|                          GUI included                          | Various GUIs available.<br>We recommend [Pycharm](https://www.jetbrains.com/pycharm/) |\n",
        "|   Download: [Mathworks](https://de.mathworks.com/downloads/)   |              Download: [Anaconda](https://www.anaconda.com/download/)              |\n",
        "\n",
        "\n",
        "### Numpy for MATLAB users\n",
        "[https://docs.scipy.org/doc/numpy-1.15.0/user/numpy-for-matlab-users.html](https://docs.scipy.org/doc/numpy-1.15.0/user/numpy-for-matlab-users.html)\n",
        "\n",
        "## Common Libraries\n",
        "* Numpy (Vector and Matrix operations, Numeric computing)\n",
        "* Matplotlib (Plotting)\n",
        "* Pandas (Table operations)\n",
        "* Scikit-Learn (Machine Learning)\n",
        "* Tensorflow / PyTorch (Neural Networks)\n",
        "* SymPy (Symbolic computations)\n",
        "* Seaborn (Advanced Plotting)\n",
        "* ...\n",
        "\n",
        "## Quickstart\n"
      ]
    },
    {
      "cell_type": "code",
      "execution_count": null,
      "metadata": {
        "deletable": false,
        "editable": false,
        "nbgrader": {
          "cell_type": "code",
          "checksum": "4bf686f8507e7defe725a3e4ffa4f342",
          "grade": false,
          "grade_id": "cell-bb8aab80ca0139e1",
          "locked": true,
          "schema_version": 3,
          "solution": false,
          "task": false
        },
        "id": "N-LNcwp46Mb2"
      },
      "outputs": [],
      "source": [
        "import numpy as np\n",
        "import matplotlib.pyplot as plt\n",
        "#plt.style.use('dark_background')\n",
        "\n",
        "U_0 = 3     # V\n",
        "u_peak = 2  # V\n",
        "f_0 = 50    # 1/s\n",
        "\n",
        "# Timevector in s (Sequence of numbers)\n",
        "t = np.arange(start=0, stop=0.04, step=0.001)\n",
        "u = U_0 + u_peak * np.sin(2 * np.pi * f_0 * t)\n",
        "plt.plot(t, u, 'o--')\n",
        "plt.xlabel('Time $t$ / s')\n",
        "plt.ylabel('Voltage $u(t)$ / V')\n",
        "plt.grid(True)\n"
      ]
    }
  ],
  "metadata": {
    "kernelspec": {
      "display_name": "Python 3",
      "language": "python",
      "name": "python3"
    },
    "language_info": {
      "codemirror_mode": {
        "name": "ipython",
        "version": 3
      },
      "file_extension": ".py",
      "mimetype": "text/x-python",
      "name": "python",
      "nbconvert_exporter": "python",
      "pygments_lexer": "ipython3",
      "version": "3.6.10"
    },
    "colab": {
      "provenance": [],
      "include_colab_link": true
    }
  },
  "nbformat": 4,
  "nbformat_minor": 0
}