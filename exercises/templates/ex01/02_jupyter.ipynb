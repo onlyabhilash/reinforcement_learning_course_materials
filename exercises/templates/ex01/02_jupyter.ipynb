{
  "cells": [
    {
      "cell_type": "markdown",
      "metadata": {
        "id": "view-in-github",
        "colab_type": "text"
      },
      "source": [
        "<a href=\"https://colab.research.google.com/github/onlyabhilash/reinforcement_learning_course_materials/blob/main/exercises/templates/ex01/02_jupyter.ipynb\" target=\"_parent\"><img src=\"https://colab.research.google.com/assets/colab-badge.svg\" alt=\"Open In Colab\"/></a>"
      ]
    },
    {
      "cell_type": "markdown",
      "metadata": {
        "id": "-fllO4249Pd6"
      },
      "source": [
        "# Jupyter Notebook"
      ]
    },
    {
      "cell_type": "markdown",
      "metadata": {
        "id": "a1OQjmM69Pd9"
      },
      "source": [
        "## Introduction\n",
        "\n",
        "Documentation: https://jupyter-notebook.readthedocs.io/en/stable/\n",
        "\n",
        "Introduction to Jupyter Notebooks: [Youtube Video](https://www.youtube.com/embed/q_BzsPxwLOE)"
      ]
    },
    {
      "cell_type": "markdown",
      "metadata": {
        "id": "fEn0EAXC9Pd-"
      },
      "source": [
        "# 1 Heading\n",
        "\n",
        "This is a markdown cell."
      ]
    },
    {
      "cell_type": "markdown",
      "metadata": {
        "id": "TraoIQez9Pd-"
      },
      "source": [
        "## 1.1 Heading"
      ]
    },
    {
      "cell_type": "markdown",
      "metadata": {
        "id": "q618X7wp9Pd-"
      },
      "source": [
        "### 1.1.1 Heading"
      ]
    },
    {
      "cell_type": "markdown",
      "metadata": {
        "id": "Re5j9NYH9Pd-"
      },
      "source": [
        "#### 1.1.1.1 Heading"
      ]
    },
    {
      "cell_type": "markdown",
      "metadata": {
        "id": "u88WhL_c9Pd_"
      },
      "source": [
        "### Enumeration\n",
        "\n",
        "* first point\n",
        "* second point\n",
        "* third point"
      ]
    },
    {
      "cell_type": "markdown",
      "metadata": {
        "id": "JiLHLA1Z9Pd_"
      },
      "source": [
        "### Table\n",
        "\n",
        "| a | b | c |\n",
        "|---|---|---|\n",
        "|entry a|entry b|entry c|"
      ]
    },
    {
      "cell_type": "code",
      "execution_count": null,
      "metadata": {
        "id": "jXc9hof89Pd_"
      },
      "outputs": [],
      "source": []
    }
  ],
  "metadata": {
    "kernelspec": {
      "display_name": "Python 3",
      "language": "python",
      "name": "python3"
    },
    "language_info": {
      "codemirror_mode": {
        "name": "ipython",
        "version": 3
      },
      "file_extension": ".py",
      "mimetype": "text/x-python",
      "name": "python",
      "nbconvert_exporter": "python",
      "pygments_lexer": "ipython3",
      "version": "3.6.10"
    },
    "colab": {
      "provenance": [],
      "include_colab_link": true
    }
  },
  "nbformat": 4,
  "nbformat_minor": 0
}