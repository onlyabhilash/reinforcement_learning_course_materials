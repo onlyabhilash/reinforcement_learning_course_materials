{
  "cells": [
    {
      "cell_type": "markdown",
      "metadata": {
        "id": "view-in-github",
        "colab_type": "text"
      },
      "source": [
        "<a href=\"https://colab.research.google.com/github/onlyabhilash/reinforcement_learning_course_materials/blob/main/exercises/templates/ex01/06_matplotlib.ipynb\" target=\"_parent\"><img src=\"https://colab.research.google.com/assets/colab-badge.svg\" alt=\"Open In Colab\"/></a>"
      ]
    },
    {
      "cell_type": "markdown",
      "metadata": {
        "id": "3xT762BD-Hih"
      },
      "source": [
        "# Matplotlib\n",
        "## Introduction\n",
        "- matplotlib is probably the single most used Python package for 2D-graphics\n",
        "- it also provides good capablities to creade 3D-graphics\n",
        "- quick way to visualize data from python in publication-quality\n",
        "\n",
        "- for further information: https://matplotlib.org/"
      ]
    },
    {
      "cell_type": "markdown",
      "metadata": {
        "id": "7NIJGQ9H-Hij"
      },
      "source": [
        "## Creating First Plots\n",
        "\n",
        "### 1. Import pyplot package\n",
        "    - provides functions that makes matplotlib work like MATLAB\n",
        "    - object-oriented plotting"
      ]
    },
    {
      "cell_type": "code",
      "execution_count": null,
      "metadata": {
        "id": "Jymwb5sH-Hik"
      },
      "outputs": [],
      "source": [
        "import matplotlib.pyplot as plt # import pyplot interface"
      ]
    },
    {
      "cell_type": "markdown",
      "metadata": {
        "id": "vi4tUqxt-Hil"
      },
      "source": [
        "### 3. Create [figure](https://matplotlib.org/api/figure_api.html) and [axes](https://matplotlib.org/api/_as_gen/matplotlib.figure.Figure.html)"
      ]
    },
    {
      "cell_type": "code",
      "execution_count": null,
      "metadata": {
        "id": "xl_aGN8B-Hil"
      },
      "outputs": [],
      "source": [
        "fig = plt.figure() # a new figure window\n",
        "ax = fig.add_subplot(1, 1, 1) # a new axes\n",
        "plt.show(fig)"
      ]
    },
    {
      "cell_type": "markdown",
      "metadata": {
        "id": "C05iYJNa-Hil"
      },
      "source": [
        "### 3. Create / [Plot data](https://matplotlib.org/api/_as_gen/matplotlib.pyplot.plot.html) (sine)"
      ]
    },
    {
      "cell_type": "code",
      "execution_count": null,
      "metadata": {
        "id": "CfTPnEL5-Him"
      },
      "outputs": [],
      "source": [
        "import numpy as np\n",
        "x = np.linspace(0,10,1000)\n",
        "y = np.sin(x)\n",
        "\n",
        "ax.plot(x,y, label = 'sine')\n",
        "fig # this is required to re-display the figure"
      ]
    },
    {
      "cell_type": "markdown",
      "metadata": {
        "id": "nX0pH753-Him"
      },
      "source": [
        "#### Customize Line Style"
      ]
    },
    {
      "cell_type": "code",
      "execution_count": null,
      "metadata": {
        "id": "t1APxiDY-Him"
      },
      "outputs": [],
      "source": [
        "fig2 = plt.figure() # a new figure window\n",
        "ax2 = fig2.add_subplot(1, 1, 1) # a new axes\n",
        "\n",
        "x2 = np.linspace(0,10,50)\n",
        "y2 = np.sin(x2)\n",
        "\n",
        "ax2.plot(x2,y2, '-o', label = 'sine')\n",
        "plt.show(fig2)"
      ]
    },
    {
      "cell_type": "code",
      "execution_count": null,
      "metadata": {
        "id": "N0MEQz7l-Hin"
      },
      "outputs": [],
      "source": [
        "fig3 = plt.figure() # a new figure window\n",
        "ax3 = fig3.add_subplot(1, 1, 1) # a new axes\n",
        "\n",
        "x2 = np.linspace(0,10,50)\n",
        "y2 = np.sin(x2)\n",
        "\n",
        "ax3.plot(x2,y2, 'r-o', label = 'sine')\n",
        "plt.show(fig3)"
      ]
    },
    {
      "cell_type": "markdown",
      "metadata": {
        "id": "yxQeel0l-Hin"
      },
      "source": [
        "##### Line Colour\n",
        "'r': red  \n",
        "'g': green  \n",
        "'b': blue  \n",
        "'c': cyan  \n",
        "'m': magenta  \n",
        "'y': yellow  \n",
        "'k': black  \n",
        "'w:': white  "
      ]
    },
    {
      "cell_type": "markdown",
      "metadata": {
        "id": "pXzuXo_Z-Hin"
      },
      "source": [
        "##### Line Style\n",
        "'-': solid  \n",
        "'--': dashed  \n",
        "':': dotted  \n",
        "'-.': dot-dashed  \n",
        "'.': points  \n",
        "'o': filled circles  \n",
        "'^': filled triangles  "
      ]
    },
    {
      "cell_type": "markdown",
      "metadata": {
        "id": "B5Xqkp_E-Hio"
      },
      "source": [
        "### 4. Create / [Plot data](https://matplotlib.org/api/_as_gen/matplotlib.pyplot.plot.html) (cosine)"
      ]
    },
    {
      "cell_type": "code",
      "execution_count": null,
      "metadata": {
        "id": "PV7SQJXQ-Hio"
      },
      "outputs": [],
      "source": [
        "y2 = np.cos(x)\n",
        "ax.plot(x,y2, label = 'cosine')\n",
        "\n",
        "fig"
      ]
    },
    {
      "cell_type": "markdown",
      "metadata": {
        "id": "yVaCHjhf-Hio"
      },
      "source": [
        "### 5. Create / [Plot data](https://matplotlib.org/api/_as_gen/matplotlib.pyplot.plot.html) (3 * cosine) on second axes"
      ]
    },
    {
      "cell_type": "code",
      "execution_count": null,
      "metadata": {
        "id": "JM7r5ebg-Hio"
      },
      "outputs": [],
      "source": [
        "ax_twin = ax.twinx()\n",
        "y3 = 3 * np.cos(x+np.pi/4)\n",
        "ax_twin.plot(x,y3, 'r',label = '3 * cosine')\n",
        "\n",
        "fig"
      ]
    },
    {
      "cell_type": "markdown",
      "metadata": {
        "id": "L6iu-rbB-Hip"
      },
      "source": [
        "### 5. Set limits for [x](https://matplotlib.org/api/_as_gen/matplotlib.axes.Axes.set_xlim.html)-/[y](https://matplotlib.org/api/_as_gen/matplotlib.axes.Axes.set_ylim.html)-axis"
      ]
    },
    {
      "cell_type": "code",
      "execution_count": null,
      "metadata": {
        "id": "1ovI81GZ-Hip"
      },
      "outputs": [],
      "source": [
        "ax.set_xlim(0,10)\n",
        "ax.set_ylim(-1.5, 2.0)\n",
        "fig"
      ]
    },
    {
      "cell_type": "markdown",
      "metadata": {
        "id": "tdCx82jc-Hip"
      },
      "source": [
        "### 6. [Add legend](https://matplotlib.org/api/_as_gen/matplotlib.pyplot.legend.html)"
      ]
    },
    {
      "cell_type": "code",
      "execution_count": null,
      "metadata": {
        "id": "jC_iJhLA-Hip"
      },
      "outputs": [],
      "source": [
        "ax.legend()\n",
        "fig"
      ]
    },
    {
      "cell_type": "markdown",
      "metadata": {
        "id": "n3-ILyXe-Hip"
      },
      "source": [
        "### 7. Add [x](https://matplotlib.org/api/_as_gen/matplotlib.axes.Axes.set_xlabel.html)-/[y](https://matplotlib.org/api/_as_gen/matplotlib.axes.Axes.set_ylabel.html)-label and [title](https://matplotlib.org/api/_as_gen/matplotlib.axes.Axes.set_title.html)"
      ]
    },
    {
      "cell_type": "code",
      "execution_count": null,
      "metadata": {
        "id": "b7ibWfwY-Hiq"
      },
      "outputs": [],
      "source": [
        "ax.set_xlabel(\"$x$\")\n",
        "ax.set_ylabel(\"$\\sin(x)$\")\n",
        "ax.set_title(\"I like $\\pi$\")\n",
        "\n",
        "fig"
      ]
    },
    {
      "cell_type": "markdown",
      "metadata": {
        "id": "Xe2cW0Me-Hiq"
      },
      "source": [
        "### 7. [Add grid](https://matplotlib.org/api/_as_gen/matplotlib.axes.Axes.grid.html)"
      ]
    },
    {
      "cell_type": "code",
      "execution_count": null,
      "metadata": {
        "id": "Yvfv-9Vb-Hiq"
      },
      "outputs": [],
      "source": [
        "ax.grid(True)\n",
        "fig"
      ]
    },
    {
      "cell_type": "markdown",
      "metadata": {
        "id": "XK5FEdPJ-Hiq"
      },
      "source": [
        "### Excursion Subplots\n",
        "- the command [fig.add_subplot](https://matplotlib.org/api/_as_gen/matplotlib.figure.Figure.html) divides the figures in grid with a certain number of axes\n",
        "- syntax:\n",
        "``` python    \n",
        "fig.add_subplot(rows, cols, num)\n",
        "```    \n",
        "- rows = number of rows in the grid\n",
        "- cols = number of columns in the grid\n",
        "- num = number of the subplot to create (counting from left to right, top to bottom and indexed starting at 1)"
      ]
    },
    {
      "cell_type": "code",
      "execution_count": null,
      "metadata": {
        "id": "GW8D2ioi-Hiq"
      },
      "outputs": [],
      "source": [
        "fig  =  plt.figure()\n",
        "for  i  in range(6):\n",
        "    ax  =  fig.add_subplot(2, 3, i + 1)\n",
        "    ax.set_title(\"Plot #%i\" % i)"
      ]
    },
    {
      "cell_type": "markdown",
      "metadata": {
        "id": "AGbKONyG-Hir"
      },
      "source": [
        "- the subplots are overlapping\n",
        "- there are a few ways to fix it, i.e.:"
      ]
    },
    {
      "cell_type": "code",
      "execution_count": null,
      "metadata": {
        "id": "d6y7fm_C-Hir"
      },
      "outputs": [],
      "source": [
        "fig.subplots_adjust(wspace=0.4, hspace=0.4)\n",
        "fig"
      ]
    },
    {
      "cell_type": "markdown",
      "metadata": {
        "id": "3P4Lsxkl-Hir"
      },
      "source": [
        "- ```wspace``` and ```hspace ``` determine the width and height between each plot"
      ]
    },
    {
      "cell_type": "markdown",
      "metadata": {
        "id": "Wt5K054w-Hir"
      },
      "source": [
        "## 2. Various 2D Plotting\n",
        "### [Histograms](https://matplotlib.org/api/_as_gen/matplotlib.pyplot.hist.html)"
      ]
    },
    {
      "cell_type": "code",
      "execution_count": null,
      "metadata": {
        "id": "i-pI59VB-Hir"
      },
      "outputs": [],
      "source": [
        "x = np.random.normal(size=1000)\n",
        "\n",
        "fig, ax = plt.subplots()\n",
        "\n",
        "H = ax.hist(x, bins=50, alpha=0.5, histtype='stepfilled')"
      ]
    },
    {
      "cell_type": "markdown",
      "metadata": {
        "id": "38ThohVi-Hir"
      },
      "source": [
        "### [Pie Plot](https://matplotlib.org/api/_as_gen/matplotlib.pyplot.pie.html)"
      ]
    },
    {
      "cell_type": "code",
      "execution_count": null,
      "metadata": {
        "id": "Boxq-B1G-His"
      },
      "outputs": [],
      "source": [
        "fracs = [30, 15, 45, 10]\n",
        "colors = ['b', 'g', 'r', 'w']\n",
        "\n",
        "fig, ax = plt.subplots(figsize=(6, 6))  # make the plot square\n",
        "pie = ax.pie(fracs, colors=colors, explode=(0, 0, 0.05, 0), shadow=True,\n",
        "             labels=['A', 'B', 'C', 'D'])"
      ]
    },
    {
      "cell_type": "markdown",
      "metadata": {
        "id": "dMaorCQp-His"
      },
      "source": [
        "### [Errorbar Plots](https://matplotlib.org/api/_as_gen/matplotlib.pyplot.errorbar.html)"
      ]
    },
    {
      "cell_type": "code",
      "execution_count": null,
      "metadata": {
        "id": "VEqDgZTv-His"
      },
      "outputs": [],
      "source": [
        "x = np.linspace(0, 10, 30)\n",
        "dy = 0.1\n",
        "y = np.random.normal(np.sin(x),dy)\n",
        "\n",
        "fig, ax = plt.subplots()\n",
        "plt.errorbar(x, y, dy, fmt='.k')"
      ]
    },
    {
      "cell_type": "markdown",
      "metadata": {
        "id": "8p8bYCXm-His"
      },
      "source": [
        "### [Contour Plots (filled)](https://matplotlib.org/api/_as_gen/matplotlib.pyplot.contourf.html)"
      ]
    },
    {
      "cell_type": "code",
      "execution_count": null,
      "metadata": {
        "id": "G_ABWsdO-His"
      },
      "outputs": [],
      "source": [
        "x = np.linspace(0, 10, 50)\n",
        "y = np.linspace(0, 20, 60)\n",
        "\n",
        "z = np.cos(y[:, np.newaxis]) * np.sin(x)\n",
        "\n",
        "fig, ax = plt.subplots()\n",
        "\n",
        "# filled contours\n",
        "im = ax.contourf(x, y, z, 100)\n",
        "\n",
        "fig.colorbar(im, ax=ax)"
      ]
    },
    {
      "cell_type": "markdown",
      "metadata": {
        "id": "H_WxgRA--His"
      },
      "source": [
        "### [Contour Plots (lines)](https://matplotlib.org/api/_as_gen/matplotlib.pyplot.contour.html)"
      ]
    },
    {
      "cell_type": "code",
      "execution_count": null,
      "metadata": {
        "id": "zJzb8oFQ-Hit"
      },
      "outputs": [],
      "source": [
        "# contour lines\n",
        "im2 = ax.contour(x, y, z, colors='k')\n",
        "\n",
        "fig"
      ]
    },
    {
      "cell_type": "markdown",
      "metadata": {
        "id": "MLKCrvca-Hit"
      },
      "source": [
        "## 3. [Various 3D Plotting](https://matplotlib.org/mpl_toolkits/mplot3d/tutorial.html)"
      ]
    },
    {
      "cell_type": "code",
      "execution_count": null,
      "metadata": {
        "id": "Xxar7a1e-Hit"
      },
      "outputs": [],
      "source": [
        "# This is the 3D plotting toolkit\n",
        "from mpl_toolkits.mplot3d import Axes3D"
      ]
    },
    {
      "cell_type": "markdown",
      "metadata": {
        "id": "UxNwO0N_-Hiu"
      },
      "source": [
        "### [3D scatter Plot](https://matplotlib.org/mpl_toolkits/mplot3d/tutorial.html#scatter-plots)"
      ]
    },
    {
      "cell_type": "code",
      "execution_count": null,
      "metadata": {
        "id": "m4wOCYhB-Hiu"
      },
      "outputs": [],
      "source": [
        "fig = plt.figure()\n",
        "ax = plt.axes(projection='3d')\n",
        "\n",
        "z = np.linspace(0, 1, 100)\n",
        "x = z * np.sin(20 * z)\n",
        "y = z * np.cos(20 * z)\n",
        "\n",
        "c = x + y\n",
        "\n",
        "ax.scatter(x, y, z, c=c)"
      ]
    },
    {
      "cell_type": "markdown",
      "metadata": {
        "id": "VyMGqL1v-Hiu"
      },
      "source": [
        "### [3D Line Plot](https://matplotlib.org/mpl_toolkits/mplot3d/tutorial.html#line-plots)"
      ]
    },
    {
      "cell_type": "code",
      "execution_count": null,
      "metadata": {
        "id": "a2GiP19b-Hiu"
      },
      "outputs": [],
      "source": [
        "fig = plt.figure()\n",
        "ax = plt.axes(projection='3d')\n",
        "\n",
        "ax.plot(x, y, z, '-b')"
      ]
    },
    {
      "cell_type": "markdown",
      "metadata": {
        "id": "WYbT2uhE-Hiu"
      },
      "source": [
        "### [Surface Plot](https://matplotlib.org/mpl_toolkits/mplot3d/tutorial.html#surface-plots)"
      ]
    },
    {
      "cell_type": "code",
      "execution_count": null,
      "metadata": {
        "id": "6ak2keOj-Hiv"
      },
      "outputs": [],
      "source": [
        "x = np.outer(np.linspace(-2, 2, 30), np.ones(30))\n",
        "y = x.copy().T\n",
        "z = np.cos(x ** 2 + y ** 2)\n",
        "\n",
        "fig = plt.figure()\n",
        "ax = plt.axes(projection='3d')\n",
        "\n",
        "ax.plot_surface(x, y, z, cmap=plt.cm.jet, rstride=1, cstride=1, linewidth=0)"
      ]
    }
  ],
  "metadata": {
    "kernelspec": {
      "display_name": "Python 3",
      "language": "python",
      "name": "python3"
    },
    "language_info": {
      "codemirror_mode": {
        "name": "ipython",
        "version": 3
      },
      "file_extension": ".py",
      "mimetype": "text/x-python",
      "name": "python",
      "nbconvert_exporter": "python",
      "pygments_lexer": "ipython3",
      "version": "3.6.10"
    },
    "colab": {
      "provenance": [],
      "include_colab_link": true
    }
  },
  "nbformat": 4,
  "nbformat_minor": 0
}