{
  "cells": [
    {
      "cell_type": "markdown",
      "metadata": {
        "id": "view-in-github",
        "colab_type": "text"
      },
      "source": [
        "<a href=\"https://colab.research.google.com/github/onlyabhilash/reinforcement_learning_course_materials/blob/main/exercises/templates/ex05/TD0_Methods.ipynb\" target=\"_parent\"><img src=\"https://colab.research.google.com/assets/colab-badge.svg\" alt=\"Open In Colab\"/></a>"
      ]
    },
    {
      "cell_type": "markdown",
      "metadata": {
        "deletable": false,
        "editable": false,
        "nbgrader": {
          "cell_type": "markdown",
          "checksum": "7cd1084dcffc30c32a65daa9ba9e4199",
          "grade": false,
          "grade_id": "cell-7f558e8f3d6ac7e9",
          "locked": true,
          "schema_version": 3,
          "solution": false,
          "task": false
        },
        "id": "UoKagLOFGqSM"
      },
      "source": [
        "# Exercise 05) Temporal-Difference Learning\n",
        "\n",
        "In this exercise we again use the racetrack environment developed in the first homework.\n",
        "You can either use our provided environment or your own solution from the homework assignment.  \n",
        "\n",
        "For starting, please execute the following cells.\n",
        "There, we will build the more complex rectangular course which was used in the last task of exercise 04.\n",
        "\n",
        "A dummy policy is defined, which turns the car to the right in front of a wall.\n",
        "As a reminder the action encoding can be seen in the following picture:\n",
        "\n",
        "![](Directions_Legend.png)"
      ]
    },
    {
      "cell_type": "code",
      "execution_count": null,
      "metadata": {
        "deletable": false,
        "editable": false,
        "nbgrader": {
          "cell_type": "code",
          "checksum": "cf4a49bbc33f6edacf332938c5116b1f",
          "grade": false,
          "grade_id": "cell-6cd0709c047c84bf",
          "locked": true,
          "schema_version": 3,
          "solution": false,
          "task": false
        },
        "id": "JGqSJQBNGqSS"
      },
      "outputs": [],
      "source": [
        "import numpy as np\n",
        "import random\n",
        "import sys\n",
        "from solution import RaceTrackEnv\n",
        "import matplotlib.pyplot as plt\n",
        "from tqdm.notebook import tqdm"
      ]
    },
    {
      "cell_type": "code",
      "execution_count": null,
      "metadata": {
        "deletable": false,
        "editable": false,
        "nbgrader": {
          "cell_type": "code",
          "checksum": "b48bc7a6d6cbf3da562c4cbd6da99089",
          "grade": false,
          "grade_id": "cell-e208d02afd74c3fc",
          "locked": true,
          "schema_version": 3,
          "solution": false,
          "task": false
        },
        "id": "1XkAEY18GqSU"
      },
      "outputs": [],
      "source": [
        "# Build the course\n",
        "_course_dim = (8, 10)\n",
        "_inner_wall_dim = (2, 6)\n",
        "\n",
        "def build_rect_course(course_dim, inner_wall_dim):\n",
        "    \"\"\"Build a race track given specifications for the outer cyclic street and inner wall dimensions.\n",
        "    Start and finish line should be placed in the center top. The course dimension specifications\n",
        "    do not consider a bounding wall around the track, which must be inserted additionally.\n",
        "\n",
        "    Args:\n",
        "        course_dim: 2-tuple, (y-dim, x-dim): The size of the track without outer walls.\n",
        "        inner_wall_dim: 2-tuple (y-dim, x-dim): The size of the inner wall\n",
        "\n",
        "    \"\"\"\n",
        "    track = []\n",
        "    wall_up_bound = course_dim[0]//2 - inner_wall_dim[0] // 2\n",
        "    wall_bottom_bound = course_dim[0]//2 + inner_wall_dim[0]//2\n",
        "    street_width = course_dim[1]//2 - inner_wall_dim[1]//2\n",
        "    # construct course line by line\n",
        "    for i in range(course_dim[0]):\n",
        "        if i < wall_up_bound:\n",
        "            half_street_len = course_dim[1]//2 - 1\n",
        "            track_row = 'o'*half_street_len + '+W-' + 'o'*(half_street_len-1)\n",
        "        elif  wall_up_bound <= i < wall_bottom_bound:\n",
        "            track_row = 'o'*street_width + 'W'*inner_wall_dim[1] + 'o'*street_width\n",
        "        else:\n",
        "            track_row = 'o'*course_dim[1]\n",
        "        track.append(track_row)\n",
        "    # add boundary\n",
        "    track = ['W'*course_dim[1]] + track + ['W'*course_dim[1]]\n",
        "    track = ['W'+s+'W' for s in track]\n",
        "    return track"
      ]
    },
    {
      "cell_type": "code",
      "execution_count": null,
      "metadata": {
        "deletable": false,
        "editable": false,
        "nbgrader": {
          "cell_type": "code",
          "checksum": "2a44dc35f25160bb8e9f9a86396ceb06",
          "grade": false,
          "grade_id": "cell-4c2c49205b405e2e",
          "locked": true,
          "schema_version": 3,
          "solution": false,
          "task": false
        },
        "id": "q7tMmmIRGqSW"
      },
      "outputs": [],
      "source": [
        "course = build_rect_course(_course_dim, _inner_wall_dim)\n",
        "track = RaceTrackEnv(course)\n",
        "dummy_slow_pi = np.ones([track.bounds[0], track.bounds[1], 1+2*track.MAX_VELOCITY, 1+2*track.MAX_VELOCITY]) * 4\n",
        "\n",
        "dummy_slow_pi[:track.bounds[0]//2, :, 0 , 0] = 5 # turn right\n",
        "dummy_slow_pi[:track.bounds[0]//2, -2:, 0 , :] = 6 # turn down left\n",
        "dummy_slow_pi[-2:, track.bounds[1]//2:, : , 0] = 0 # turn up left\n",
        "dummy_slow_pi[track.bounds[0]//2:, :2, 0, :] = 2 # turn up right\n",
        "dummy_slow_pi[:2, 0:track.bounds[1]//2, :, 0] = 8 # turn down right\n",
        "\n",
        "\n",
        "pi = dummy_slow_pi\n",
        "\n",
        "y_size, x_size = track.bounds\n",
        "\n",
        "# Run learned policy on test case\n",
        "pos_map = np.zeros((y_size, x_size))\n",
        "p, v = track.reset()\n",
        "for k in range(2000):\n",
        "    s_y, s_x = p[0], p[1]\n",
        "    s_vy, s_vx = v[0], v[1]\n",
        "    pos_map[s_y, s_x] += 1  # exploration map\n",
        "    act = track.action_to_tuple(pi[s_y, s_x, s_vy, s_vx])\n",
        "    (p, v), rew, done, _ = track.step(act)\n",
        "    if done: break\n",
        "\n",
        "for row in course:\n",
        "    print(row)\n",
        "\n",
        "print('\\n \\n Sample trajectory on dummy policy:')\n",
        "pos_map = (pos_map > 0).astype(np.float32)\n",
        "pos_map +=  track.course  # overlay track course\n",
        "plt.imshow(pos_map, cmap='hot', interpolation='nearest')\n",
        "plt.show()"
      ]
    },
    {
      "cell_type": "markdown",
      "metadata": {
        "deletable": false,
        "editable": false,
        "nbgrader": {
          "cell_type": "markdown",
          "checksum": "136d89826f1931952b34c66b8ddd8955",
          "grade": false,
          "grade_id": "cell-ca8dcc7e0dc05f9d",
          "locked": true,
          "schema_version": 3,
          "solution": false,
          "task": false
        },
        "id": "Y2JDF_-DGqSX"
      },
      "source": [
        "## 1) TD-Based Policy Evaluation"
      ]
    },
    {
      "cell_type": "markdown",
      "metadata": {
        "deletable": false,
        "editable": false,
        "nbgrader": {
          "cell_type": "markdown",
          "checksum": "a13f345ec57e1118475cb0a875b94971",
          "grade": false,
          "grade_id": "cell-7197a6aac11887b4",
          "locked": true,
          "schema_version": 3,
          "solution": false,
          "task": false
        },
        "id": "zr8n06CxGqSY"
      },
      "source": [
        "Write a TD-based prediction algorithm to evaluate the dummy policy using $\\alpha = 0.2$ and $\\gamma = 1$ and calculate the state values.\n",
        "\n",
        "After how many episodes do the state values converge?\n",
        "Compare this to Monte-Carlo first visit prediciton from exercise 04.\n",
        "\n",
        "Change $\\alpha$ to $1$? Does it work? Explain!"
      ]
    },
    {
      "cell_type": "markdown",
      "metadata": {
        "deletable": false,
        "editable": false,
        "nbgrader": {
          "cell_type": "markdown",
          "checksum": "3beda389c847f5bf87881eb82c0596ab",
          "grade": false,
          "grade_id": "cell-9f2519bdb5105516",
          "locked": true,
          "schema_version": 3,
          "solution": false,
          "task": false
        },
        "id": "2kIZKMwaGqSZ"
      },
      "source": [
        "## 1) Solution"
      ]
    },
    {
      "cell_type": "code",
      "execution_count": null,
      "metadata": {
        "deletable": false,
        "nbgrader": {
          "cell_type": "code",
          "checksum": "9aa88eba74401c27e54ed4106741073d",
          "grade": false,
          "grade_id": "cell-9420a2eab6df4bfe",
          "locked": false,
          "schema_version": 3,
          "solution": true,
          "task": false
        },
        "id": "0Ar3xYwgGqSZ"
      },
      "outputs": [],
      "source": [
        "# Function to print the state values\n",
        "def text_print_pos_map(_pos_map):\n",
        "    for row in _pos_map:\n",
        "        print(' '.join(x_size*['{}']).format(*[str(int(r)).zfill(3) for r in row]))\n",
        "\n",
        "# Function to plot the heatmap\n",
        "def plot_pos_map(_pos_map):\n",
        "    plt.imshow(_pos_map, cmap='hot', interpolation='nearest')\n",
        "    plt.show()\n",
        "\n",
        "# Initialise state values\n",
        "values = np.zeros([track.bounds[0], track.bounds[1], 1+2*track.MAX_VELOCITY, 1+2*track.MAX_VELOCITY])\n",
        "\n",
        "# Configuration parameters\n",
        "gamma = 1\n",
        "alpha = 1\n",
        "\n",
        "# Initialise race track course\n",
        "course = course\n",
        "track = RaceTrackEnv(course)\n",
        "x_size, y_size = len(course[0]), len(course)\n",
        "\n",
        "pos_map = np.zeros((y_size, x_size))\n",
        "\n",
        "episodes = 250\n",
        "\n",
        "# YOUR CODE HERE\n",
        "raise NotImplementedError()\n",
        "\n",
        "\n",
        "# Plot heatmap in the end\n",
        "plot_pos_map(-pos_map)"
      ]
    },
    {
      "cell_type": "markdown",
      "metadata": {
        "deletable": false,
        "editable": false,
        "nbgrader": {
          "cell_type": "markdown",
          "checksum": "c1c650e54f6357227cd27cb66c81b91f",
          "grade": false,
          "grade_id": "cell-6bef3d58f89a83b6",
          "locked": true,
          "schema_version": 3,
          "solution": false,
          "task": false
        },
        "id": "pheufekUGqSa"
      },
      "source": [
        "## 2) On-Policy $\\varepsilon$-Greedy Control:"
      ]
    },
    {
      "cell_type": "markdown",
      "metadata": {
        "deletable": false,
        "editable": false,
        "nbgrader": {
          "cell_type": "markdown",
          "checksum": "ecd3be568c45df9b895ab9ade445c330",
          "grade": false,
          "grade_id": "cell-0ad52e3055e4119c",
          "locked": true,
          "schema_version": 3,
          "solution": false,
          "task": false
        },
        "id": "12vfwmAOGqSb"
      },
      "source": [
        "Write a temporal-difference based $\\varepsilon$-greedy control algorithm to solve the rectangular course environment used above.\n",
        "Use $\\varepsilon = 0.1$, $\\alpha = 0.5$ and $\\gamma = 1$ and run $500$ episodes.\n",
        "\n",
        "Note that no initial policy is needed for TD control methods.\n",
        "\n",
        "\n",
        "Does Sarsa perform good at learning an optimal greedy policy?\n",
        "\n",
        "Change $\\alpha$ to $0.1$ and $0.9$. What do you recognize? Explain!"
      ]
    },
    {
      "cell_type": "markdown",
      "metadata": {
        "deletable": false,
        "editable": false,
        "nbgrader": {
          "cell_type": "markdown",
          "checksum": "0c2f8a230285f4b7b79aa2ed02402845",
          "grade": false,
          "grade_id": "cell-4b7cde2b63748115",
          "locked": true,
          "schema_version": 3,
          "solution": false,
          "task": false
        },
        "id": "kb6ES2-mGqSc"
      },
      "source": [
        "## 2) Solution"
      ]
    },
    {
      "cell_type": "markdown",
      "metadata": {
        "deletable": false,
        "nbgrader": {
          "cell_type": "markdown",
          "checksum": "2ae983a5b1f1798f1eee2f1e7073edbb",
          "grade": true,
          "grade_id": "cell-88c20c864f47389e",
          "locked": false,
          "points": 0,
          "schema_version": 3,
          "solution": true,
          "task": false
        },
        "id": "A9iM5bbnGqSc"
      },
      "source": [
        "YOUR ANSWER HERE"
      ]
    },
    {
      "cell_type": "code",
      "execution_count": null,
      "metadata": {
        "deletable": false,
        "nbgrader": {
          "cell_type": "code",
          "checksum": "be5f10a90d35c29416eb1730a2479a76",
          "grade": false,
          "grade_id": "cell-44607222bc50aac7",
          "locked": false,
          "schema_version": 3,
          "solution": true,
          "task": false
        },
        "id": "DmTylnOgGqSc"
      },
      "outputs": [],
      "source": [
        "# Initialise action values\n",
        "action_values = np.zeros([track.bounds[0], track.bounds[1], 1+2*track.MAX_VELOCITY, 1+2*track.MAX_VELOCITY, 3, 3])\n",
        "\n",
        "cumulated_rewards = []\n",
        "q_sample = []\n",
        "\n",
        "# configuration parameters\n",
        "epsilon = 0.1   # exploration probability\n",
        "gamma = 0.5       # discount factor\n",
        "alpha = 0.5     # forgetting factor\n",
        "episodes = 500 # number of evaluated episodes\n",
        "\n",
        "# define track\n",
        "course = course\n",
        "track = RaceTrackEnv(course)\n",
        "x_size, y_size = len(course[0]), len(course)\n",
        "\n",
        "# YOUR CODE HERE\n",
        "raise NotImplementedError()\n",
        "\n",
        "plt.plot(cumulated_rewards)\n",
        "plt.title('Training Progress using alpha = {}:'.format(alpha))\n",
        "plt.xlabel('Episode')\n",
        "plt.ylabel('Cumulated Reward')\n",
        "plt.ylim(-2000, 0)\n",
        "plt.show()\n"
      ]
    },
    {
      "cell_type": "markdown",
      "metadata": {
        "deletable": false,
        "nbgrader": {
          "cell_type": "markdown",
          "checksum": "0b1ddc42527705051eaa904c2573c399",
          "grade": true,
          "grade_id": "cell-3a49cbe5fd59a6e7",
          "locked": false,
          "points": 0,
          "schema_version": 3,
          "solution": true,
          "task": false
        },
        "id": "i_mLKA8TGqSd"
      },
      "source": [
        "YOUR ANSWER HERE"
      ]
    },
    {
      "cell_type": "code",
      "execution_count": null,
      "metadata": {
        "deletable": false,
        "nbgrader": {
          "cell_type": "code",
          "checksum": "788b51f624dfd8851b6176b0f340ff57",
          "grade": true,
          "grade_id": "cell-f918af24d667afac",
          "locked": false,
          "points": 0,
          "schema_version": 3,
          "solution": true,
          "task": false
        },
        "id": "_v406fexGqSd"
      },
      "outputs": [],
      "source": [
        "# YOUR CODE HERE\n",
        "raise NotImplementedError()"
      ]
    },
    {
      "cell_type": "markdown",
      "metadata": {
        "deletable": false,
        "editable": false,
        "nbgrader": {
          "cell_type": "markdown",
          "checksum": "41588bed2ac8d13c26460c2f3c47c5f6",
          "grade": false,
          "grade_id": "cell-d4350c373b44611e",
          "locked": true,
          "schema_version": 3,
          "solution": false,
          "task": false
        },
        "id": "KmS0NC47GqSd"
      },
      "source": [
        "Use the following cell to plot the mean +- standard deviation from the action values stored above.\n",
        "Try for different $\\alpha$!"
      ]
    },
    {
      "cell_type": "code",
      "execution_count": null,
      "metadata": {
        "deletable": false,
        "editable": false,
        "nbgrader": {
          "cell_type": "code",
          "checksum": "bfcd634b71b6bae71422302913c61b9d",
          "grade": false,
          "grade_id": "cell-a056e1a24f0da571",
          "locked": true,
          "schema_version": 3,
          "solution": false,
          "task": false
        },
        "id": "t81oc2wzGqSd"
      },
      "outputs": [],
      "source": [
        "mean_q_sample1 = np.mean(q_sample1, axis = 0)\n",
        "std_q_sample1 = np.std(q_sample1, axis = 0)\n",
        "\n",
        "plt.plot(mean_q_sample1)\n",
        "plt.plot(mean_q_sample1+std_q_sample1, 'r')\n",
        "plt.plot(mean_q_sample1-std_q_sample1, 'r')\n",
        "plt.title('Training Progress using alpha = {}:'.format(alpha))\n",
        "plt.xlabel('Episode')\n",
        "plt.ylabel('q([1,7,0,0,0,1]')\n",
        "#plt.ylim(-20, 0)\n",
        "plt.show()\n",
        "\n",
        "mean_q_sample2 = np.mean(q_sample2, axis = 0)\n",
        "std_q_sample2 = np.std(q_sample2, axis = 0)\n",
        "\n",
        "plt.plot(mean_q_sample2)\n",
        "plt.plot(mean_q_sample2+std_q_sample2, 'r')\n",
        "plt.plot(mean_q_sample2-std_q_sample2, 'r')\n",
        "plt.title('Training Progress using alpha = {}:'.format(alpha))\n",
        "plt.xlabel('Episode')\n",
        "plt.ylabel('q[2,7,0,0,0,1]')\n",
        "plt.show()\n",
        "\n",
        "mean_q_sample3 = np.mean(q_sample3, axis = 0)\n",
        "std_q_sample3 = np.std(q_sample3, axis = 0)\n",
        "\n",
        "plt.plot(mean_q_sample3)\n",
        "plt.plot(mean_q_sample3+std_q_sample3, 'r')\n",
        "plt.plot(mean_q_sample3-std_q_sample3, 'r')\n",
        "plt.title('Training Progress using alpha = {}:'.format(alpha))\n",
        "plt.xlabel('Episode')\n",
        "plt.ylabel('q[3,7,0,0,0,1]')\n",
        "plt.show()"
      ]
    },
    {
      "cell_type": "markdown",
      "metadata": {
        "deletable": false,
        "editable": false,
        "nbgrader": {
          "cell_type": "markdown",
          "checksum": "f08f825308f0c50d908f02d7225a8edf",
          "grade": false,
          "grade_id": "cell-c0313d5e344bffb6",
          "locked": true,
          "schema_version": 3,
          "solution": false,
          "task": false
        },
        "id": "hXmKhoV_GqSe"
      },
      "source": [
        "Use the following code to apply the best policy. Due to the random start position, do $5$ iterations."
      ]
    },
    {
      "cell_type": "code",
      "execution_count": null,
      "metadata": {
        "deletable": false,
        "editable": false,
        "nbgrader": {
          "cell_type": "code",
          "checksum": "a14eb3f9eaf7fdc64a2661e9866e8988",
          "grade": false,
          "grade_id": "cell-1f62b782c8ee360f",
          "locked": true,
          "schema_version": 3,
          "solution": false,
          "task": false
        },
        "id": "Xw1laLzWGqSe"
      },
      "outputs": [],
      "source": [
        "def evaluate_policy(policy, n_episodes=5):\n",
        "    for e in range(n_episodes):\n",
        "        action_states = []\n",
        "        rewards = []\n",
        "\n",
        "        pos_map = np.zeros((y_size, x_size))\n",
        "        p, v = track.reset()\n",
        "        for k in range(200):\n",
        "            s_y, s_x = p[0], p[1]\n",
        "            s_vy, s_vx = v[0], v[1]\n",
        "\n",
        "            pos_map[s_y, s_x] += 1  # exploration map\n",
        "\n",
        "            state_tuple = s_y, s_x, s_vy, s_vx\n",
        "            action = np.argmax(policy[state_tuple])\n",
        "\n",
        "            a = track.action_to_tuple(action)\n",
        "            action_state = track.state_action((p, v), a)\n",
        "            action_states.append(action_state)\n",
        "\n",
        "            (p, v), reward, done, _ = track.step(a)\n",
        "            rewards.append(reward)\n",
        "\n",
        "            if done:\n",
        "                print('Done')\n",
        "                break\n",
        "\n",
        "\n",
        "        print('Sample trajectory on learned policy in episode {}:'.format(e))\n",
        "        pos_map = (pos_map > 0).astype(np.int16)\n",
        "        pos_map +=  track.course  # overlay track course\n",
        "        plt.imshow(pos_map, cmap='hot', interpolation='nearest')\n",
        "        plt.show()\n",
        "\n",
        "\n",
        "evaluate_policy(action_values)"
      ]
    },
    {
      "cell_type": "markdown",
      "metadata": {
        "deletable": false,
        "editable": false,
        "nbgrader": {
          "cell_type": "markdown",
          "checksum": "771370338f3a2b1388988e657c7da9a5",
          "grade": false,
          "grade_id": "cell-0c371bcfacdd888b",
          "locked": true,
          "schema_version": 3,
          "solution": false,
          "task": false
        },
        "id": "kDBCmAUKGqSe"
      },
      "source": [
        "## 3) Off-Policy $\\varepsilon$-Greedy Control: Q-Learning"
      ]
    },
    {
      "cell_type": "markdown",
      "metadata": {
        "deletable": false,
        "editable": false,
        "nbgrader": {
          "cell_type": "markdown",
          "checksum": "4dab2eb5c5b815f6171a52a5ecfc2dfd",
          "grade": false,
          "grade_id": "cell-f3c161cad2caf81b",
          "locked": true,
          "schema_version": 3,
          "solution": false,
          "task": false
        },
        "id": "UX3foGvqGqSf"
      },
      "source": [
        "Write a function for a Q-Learning algorithm to solve the rectangular course environment (function will be re-used in the next task).\n",
        "Use again $\\varepsilon = 0.1$, $\\alpha = 0.5$, $\\gamma = 1$ and 500 episodes.\n",
        "\n",
        "Can the resulting greedy policy be expected to be better or worse than the optimal policy trained with Sarsa?\n"
      ]
    },
    {
      "cell_type": "markdown",
      "metadata": {
        "deletable": false,
        "editable": false,
        "nbgrader": {
          "cell_type": "markdown",
          "checksum": "d685e8a186fd87b94a77afe741816a1e",
          "grade": false,
          "grade_id": "cell-4d7c8d85aab5d729",
          "locked": true,
          "schema_version": 3,
          "solution": false,
          "task": false
        },
        "id": "C7UVlzEhGqSf"
      },
      "source": [
        "## 3) Solution"
      ]
    },
    {
      "cell_type": "markdown",
      "metadata": {
        "deletable": false,
        "nbgrader": {
          "cell_type": "markdown",
          "checksum": "4dd887ee3be5567f7cc1d5e544c9f424",
          "grade": true,
          "grade_id": "cell-87575006926b61cc",
          "locked": false,
          "points": 0,
          "schema_version": 3,
          "solution": true,
          "task": false
        },
        "id": "YJbe01VAGqSf"
      },
      "source": [
        "YOUR ANSWER HERE"
      ]
    },
    {
      "cell_type": "code",
      "execution_count": null,
      "metadata": {
        "deletable": false,
        "nbgrader": {
          "cell_type": "code",
          "checksum": "aa83f3ad2283f07e19da3c50ea7ce96c",
          "grade": true,
          "grade_id": "cell-155e68f8d30832aa",
          "locked": false,
          "points": 0,
          "schema_version": 3,
          "solution": true,
          "task": false
        },
        "id": "czu6MfOgGqSf"
      },
      "outputs": [],
      "source": [
        "\n",
        "def q_learning(epsilon, gamma, alpha, episodes, track):\n",
        "    \"\"\"\n",
        "    Defines the Q-learning function which performs 𝜀-greedy control on the given track.\n",
        "\n",
        "    :epsilon:  exploration probability\n",
        "    :gamma:    discount factor\n",
        "    :alpha:    forgetting factor\n",
        "    :episodes: number of evaluated episodes\n",
        "    :tack:     race track to learn\n",
        "\n",
        "    :return: list of cummulated rewards per episode\n",
        "    \"\"\"\n",
        "    # Initialise action values\n",
        "    action_values = np.zeros([track.bounds[0], track.bounds[1], 1+2*track.MAX_VELOCITY, 1+2*track.MAX_VELOCITY, 3, 3])\n",
        "\n",
        "    cumulated_rewards = []\n",
        "\n",
        "    # YOUR CODE HERE\n",
        "    raise NotImplementedError()\n",
        "\n",
        "    return cumulated_rewards, action_values\n",
        "\n",
        "# configuration parameters\n",
        "epsilon = 0.1   # exploration probability\n",
        "gamma = 1       # discount factor\n",
        "alpha = 0.5      # forgetting factor\n",
        "episodes = 500 # number of evaluated episodes\n",
        "\n",
        "# define track using the course defined above\n",
        "course = course\n",
        "track = RaceTrackEnv(course)\n",
        "x_size, y_size = len(course[0]), len(course)\n",
        "\n",
        "cumulated_rewards, action_values = q_learning(epsilon, gamma, alpha, episodes, track)\n",
        "\n",
        "plt.plot(cumulated_rewards)\n",
        "plt.title('Training Progress using alpha = {}:'.format(alpha))\n",
        "plt.xlabel('Episode')\n",
        "plt.ylabel('Cumulated Reward')\n",
        "plt.ylim(-2000, 0)\n",
        "plt.show()\n"
      ]
    },
    {
      "cell_type": "markdown",
      "metadata": {
        "deletable": false,
        "editable": false,
        "nbgrader": {
          "cell_type": "markdown",
          "checksum": "3afe99f0f6189bf8cbb7602df8024d78",
          "grade": false,
          "grade_id": "cell-2f30a4a48607f604",
          "locked": true,
          "schema_version": 3,
          "solution": false,
          "task": false
        },
        "id": "TpadkZG4GqSg"
      },
      "source": [
        "Show again the best 5 episodes using the function defined in 2)"
      ]
    },
    {
      "cell_type": "code",
      "execution_count": null,
      "metadata": {
        "deletable": false,
        "editable": false,
        "nbgrader": {
          "cell_type": "code",
          "checksum": "1e07f2f635c478e53fab3a2c3c364d68",
          "grade": false,
          "grade_id": "cell-8f635c16703f4776",
          "locked": true,
          "schema_version": 3,
          "solution": false,
          "task": false
        },
        "id": "5wKauW_2GqSg"
      },
      "outputs": [],
      "source": [
        "evaluate_policy(action_values)"
      ]
    },
    {
      "cell_type": "markdown",
      "metadata": {
        "deletable": false,
        "editable": false,
        "nbgrader": {
          "cell_type": "markdown",
          "checksum": "594170dc5723629ea097bcc963534cae",
          "grade": false,
          "grade_id": "cell-54ac52d0a2b9c871",
          "locked": true,
          "schema_version": 3,
          "solution": false,
          "task": false
        },
        "id": "ts1R6Gf8GqSg"
      },
      "source": [
        "## 4) Double Q-Learning\n",
        "\n",
        "Now assume the driver had a few beers. Due to the alcohol he/she is not able to perceive the environment in detail.\n",
        "The reward is therefore stochastic whenever an action, that accelerates the car into the direction of a corner, is selected (e.g. [-1,1] in the upper right quadrant).\n",
        "Therefore a stochastic environment is given below.\n",
        "Execute the cell before continuing with the exercise.\n",
        "\n",
        "- Use this environment and try to solve it with the Q-learning function written in 3) using $\\varepsilon = 0.1$, $\\alpha = 0.5$ and $\\gamma = 1$ with the cells given below.\n",
        "\n",
        "A code template is given which repeats the training $3$ times to calculate the mean cumulated reward.\n",
        "\n",
        "\n",
        "- Write a double Q-learning algorithm to solve the above defined course with the given template.\n",
        "Use again $\\varepsilon = 0.1$, $\\alpha = 0.5$ and $\\gamma = 1$.\n",
        "\n",
        "Compare the results."
      ]
    },
    {
      "cell_type": "markdown",
      "metadata": {
        "deletable": false,
        "editable": false,
        "nbgrader": {
          "cell_type": "markdown",
          "checksum": "c92ab50856420c5ddfbd0ad91db92f52",
          "grade": false,
          "grade_id": "cell-b1dc063f23f3e960",
          "locked": true,
          "schema_version": 3,
          "solution": false,
          "task": false
        },
        "id": "P9LzbPcqGqSh"
      },
      "source": [
        "### Drunken Driver Environment"
      ]
    },
    {
      "cell_type": "code",
      "execution_count": null,
      "metadata": {
        "deletable": false,
        "editable": false,
        "nbgrader": {
          "cell_type": "code",
          "checksum": "a33fff6a9de94e73a03b0ded24c6f164",
          "grade": false,
          "grade_id": "cell-e57ef2fd78635217",
          "locked": true,
          "schema_version": 3,
          "solution": false,
          "task": false
        },
        "id": "TD4PJFmrGqSh"
      },
      "outputs": [],
      "source": [
        "class StochRaceTrackEnv(RaceTrackEnv):\n",
        "    \"\"\"\n",
        "    Driver is not able to perceive the environment clearly anymore\n",
        "    \"\"\"\n",
        "    def __init__(self, eps=0.2, **kwargs):\n",
        "        self.eps = eps\n",
        "        super().__init__(**kwargs)\n",
        "        # centrifugal acceleration map\n",
        "        self.cam = np.zeros((2,) + self.course.shape, dtype=int)\n",
        "        self.cam[0, :self.course.shape[0]//2, :] = -1\n",
        "        self.cam[0, self.course.shape[0]//2:, :] = 1\n",
        "        self.cam[1, :, :self.course.shape[1]//2] = -1\n",
        "        self.cam[1, :, self.course.shape[1]//2:] = 1\n",
        "\n",
        "\n",
        "    def step(self, action):\n",
        "        if isinstance(action, int):\n",
        "            action = self.action_to_tuple(action)\n",
        "\n",
        "        prev_p, prev_v = tuple(self.position), tuple(self.velocity)\n",
        "\n",
        "\n",
        "        (p, v), reward, done, _ = super().step(action)\n",
        "\n",
        "        # sample random reward if centrifugal acceleration applies\n",
        "        if action[0] == self.cam[0, prev_p[0], prev_p[1]] and action[1] == self.cam[1, prev_p[0], prev_p[1]]:\n",
        "            reward += np.random.randn()\n",
        "\n",
        "        return (p, v), reward, done, _"
      ]
    },
    {
      "cell_type": "code",
      "execution_count": null,
      "metadata": {
        "deletable": false,
        "editable": false,
        "nbgrader": {
          "cell_type": "code",
          "checksum": "9ff01c573222baed0c0a80e123d8b136",
          "grade": false,
          "grade_id": "cell-1ea1d57743964d70",
          "locked": true,
          "schema_version": 3,
          "solution": false,
          "task": false
        },
        "id": "bLpuUSM7GqSh"
      },
      "outputs": [],
      "source": [
        "# configuration parameters\n",
        "epsilon = 0.1    # exploration probability\n",
        "gamma = 1        # discount factor\n",
        "alpha = 0.5      # forgetting factor\n",
        "episodes = 1000  # number of evaluated episodes\n",
        "repetitions = 4  # repeats the training to get mean reward\n",
        "\n",
        "# define track using the course defined above\n",
        "track = StochRaceTrackEnv(course=course)\n",
        "\n",
        "reward_trajectories_Q = []\n",
        "policies_Q = []\n",
        "\n",
        "# Runs training repetitions-times\n",
        "for _ in tqdm(range(repetitions), desc='Experiment'):\n",
        "\n",
        "    # Execute q-learning\n",
        "    cumulated_rewards, action_values = q_learning(epsilon, gamma, alpha, episodes, track)\n",
        "\n",
        "    # store reward and policy\n",
        "    reward_trajectories_Q.append(cumulated_rewards)\n",
        "    policies_Q.append(action_values)\n",
        "\n",
        "plt.plot(np.vstack(reward_trajectories_Q).mean(axis=0))\n",
        "plt.title('Q-learning')\n",
        "plt.xlabel('Episode')\n",
        "plt.ylabel('Mean Cumulated Reward')\n",
        "plt.ylim(-400, 0)\n",
        "plt.show()\n",
        "\n"
      ]
    },
    {
      "cell_type": "code",
      "execution_count": null,
      "metadata": {
        "deletable": false,
        "editable": false,
        "nbgrader": {
          "cell_type": "code",
          "checksum": "95e9a5fe26da11a7de708be4d5f577dd",
          "grade": false,
          "grade_id": "cell-5796699faabb48d5",
          "locked": true,
          "schema_version": 3,
          "solution": false,
          "task": false
        },
        "id": "vNBs-fMCGqSh"
      },
      "outputs": [],
      "source": [
        "# show episodes\n",
        "# Uses last calulated Q-values to evaluate the policy\n",
        "evaluate_policy(policies_Q[-1], 10)"
      ]
    },
    {
      "cell_type": "markdown",
      "metadata": {
        "deletable": false,
        "nbgrader": {
          "cell_type": "markdown",
          "checksum": "1870b57a4da636df43291b7a68136c9e",
          "grade": true,
          "grade_id": "cell-caf321513ac011ca",
          "locked": false,
          "points": 0,
          "schema_version": 3,
          "solution": true,
          "task": false
        },
        "id": "cm36koUzGqSh"
      },
      "source": [
        "YOUR ANSWER HERE"
      ]
    },
    {
      "cell_type": "code",
      "execution_count": null,
      "metadata": {
        "deletable": false,
        "nbgrader": {
          "cell_type": "code",
          "checksum": "42fad458c840ef01329b95ab10b87e96",
          "grade": false,
          "grade_id": "cell-b951254ccc0a37e1",
          "locked": false,
          "schema_version": 3,
          "solution": true,
          "task": false
        },
        "id": "sxS_HrFCGqSi"
      },
      "outputs": [],
      "source": [
        "\n",
        "def double_q_learning(_epsilon, _gamma, _alpha, _episodes, _track):\n",
        "    \"\"\"\n",
        "    Defines the Q-learning function which performs 𝜀-greedy control on the given track.\n",
        "\n",
        "    :_epsilon:  exploration probability\n",
        "    :_gamma:    discount factor\n",
        "    :_alpha:    forgetting factor\n",
        "    :_episodes: number of evaluated episodes\n",
        "    :_tack:     race track to learn\n",
        "\n",
        "    :return: list of cummulated rewards per episode and action values\n",
        "    \"\"\"\n",
        "\n",
        "    # define track\n",
        "    course = _track.course\n",
        "    x_size, y_size = len(course[0]), len(course)\n",
        "\n",
        "    # Initialise action values\n",
        "    action_values1 = np.zeros([_track.bounds[0], _track.bounds[1], 1+2*_track.MAX_VELOCITY, 1+2*_track.MAX_VELOCITY, 3, 3])\n",
        "    action_values2 = np.zeros([_track.bounds[0], _track.bounds[1], 1+2*_track.MAX_VELOCITY, 1+2*_track.MAX_VELOCITY, 3, 3])\n",
        "\n",
        "    cumulated_rewards = []\n",
        "\n",
        "    # YOUR CODE HERE\n",
        "    raise NotImplementedError()\n",
        "\n",
        "    return cumulated_rewards, action_values1+action_values2\n",
        "\n",
        "\n",
        "reward_trajectories_double_Q = []\n",
        "policies_double_Q = []\n",
        "\n",
        "# Runs training repetitions-times\n",
        "for _ in tqdm(range(repetitions), desc='Experiment'):\n",
        "\n",
        "    # Execute double q-learning\n",
        "    cumulated_rewards, action_values = double_q_learning(epsilon, gamma, alpha, episodes, track)\n",
        "\n",
        "    # store reward and policy\n",
        "    reward_trajectories_double_Q.append(cumulated_rewards)\n",
        "    policies_double_Q.append(action_values)\n",
        "\n",
        "plt.plot(np.vstack(reward_trajectories_Q).mean(axis=0), label='Q Learning')\n",
        "plt.plot(np.vstack(reward_trajectories_double_Q).mean(axis=0), label='Double Q')\n",
        "plt.title('Q Learning vs Double Q Learning')\n",
        "plt.xlabel('Episode')\n",
        "plt.ylabel('Mean Cumulated Reward')\n",
        "plt.ylim(-400, 0)\n",
        "plt.legend()\n",
        "plt.show()"
      ]
    },
    {
      "cell_type": "code",
      "execution_count": null,
      "metadata": {
        "deletable": false,
        "editable": false,
        "nbgrader": {
          "cell_type": "code",
          "checksum": "4a23b744b4f02c2c9379dce2bf4508c9",
          "grade": false,
          "grade_id": "cell-94604c0091d882d6",
          "locked": true,
          "schema_version": 3,
          "solution": false,
          "task": false
        },
        "id": "5IyRqvXXGqSi"
      },
      "outputs": [],
      "source": [
        "plt.plot(np.vstack(reward_trajectories_Q).mean(axis=0), label='Q Learning')\n",
        "plt.plot(np.vstack(reward_trajectories_double_Q).mean(axis=0), label='Double Q')\n",
        "plt.title('Q Learning vs Double Q Learning')\n",
        "plt.xlabel('Episode')\n",
        "plt.ylabel('Mean Cumulated Reward')\n",
        "plt.ylim(-400, 0)\n",
        "plt.legend()\n",
        "plt.show()"
      ]
    },
    {
      "cell_type": "markdown",
      "metadata": {
        "deletable": false,
        "editable": false,
        "nbgrader": {
          "cell_type": "markdown",
          "checksum": "d86f31cf124a9c74577be4be90e1bd8a",
          "grade": false,
          "grade_id": "cell-72de103bca16326f",
          "locked": true,
          "schema_version": 3,
          "solution": false,
          "task": false
        },
        "id": "QUXdEzgZGqSi"
      },
      "source": [
        "Show again the best $5$ episodes using the function defined in 2)."
      ]
    },
    {
      "cell_type": "code",
      "execution_count": null,
      "metadata": {
        "deletable": false,
        "editable": false,
        "nbgrader": {
          "cell_type": "code",
          "checksum": "4efc0807c03b29c8884649ad06d2e338",
          "grade": false,
          "grade_id": "cell-88f7c2dff8695f42",
          "locked": true,
          "schema_version": 3,
          "solution": false,
          "task": false
        },
        "id": "tYiG8NG5GqSi"
      },
      "outputs": [],
      "source": [
        "# Uses last calulated Q-values to evaluate the policy\n",
        "evaluate_policy(policies_double_Q[-1], 10)"
      ]
    }
  ],
  "metadata": {
    "kernelspec": {
      "display_name": "Python 3",
      "language": "python",
      "name": "python3"
    },
    "language_info": {
      "codemirror_mode": {
        "name": "ipython",
        "version": 3
      },
      "file_extension": ".py",
      "mimetype": "text/x-python",
      "name": "python",
      "nbconvert_exporter": "python",
      "pygments_lexer": "ipython3",
      "version": "3.7.4"
    },
    "colab": {
      "provenance": [],
      "include_colab_link": true
    }
  },
  "nbformat": 4,
  "nbformat_minor": 0
}