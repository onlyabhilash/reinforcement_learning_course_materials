{
  "cells": [
    {
      "cell_type": "markdown",
      "metadata": {
        "id": "view-in-github",
        "colab_type": "text"
      },
      "source": [
        "<a href=\"https://colab.research.google.com/github/onlyabhilash/reinforcement_learning_course_materials/blob/main/exercises/templates/ex08/SupervisedLearning.ipynb\" target=\"_parent\"><img src=\"https://colab.research.google.com/assets/colab-badge.svg\" alt=\"Open In Colab\"/></a>"
      ]
    },
    {
      "cell_type": "markdown",
      "metadata": {
        "deletable": false,
        "editable": false,
        "nbgrader": {
          "cell_type": "markdown",
          "checksum": "fa3b7b927a4c3704f7eff76b898076f1",
          "grade": false,
          "grade_id": "cell-d485c91a8c052319",
          "locked": true,
          "schema_version": 3,
          "solution": false,
          "task": false
        },
        "id": "3pQiTNeFfFc1"
      },
      "source": [
        "# Exercise 8: Supervised Learning"
      ]
    },
    {
      "cell_type": "markdown",
      "metadata": {
        "deletable": false,
        "editable": false,
        "nbgrader": {
          "cell_type": "markdown",
          "checksum": "f61503d98575a0c1fc4add97b674f396",
          "grade": false,
          "grade_id": "cell-ef5b12a5b0a9750d",
          "locked": true,
          "schema_version": 3,
          "solution": false,
          "task": false
        },
        "id": "FTiJ--hMfFc9"
      },
      "source": [
        "In this exercise a few basic supervised learning pipelines are elaborated.\n",
        "* Data analysis\n",
        "* Feature engineering\n",
        "* Cross-validation\n",
        "* Regression\n",
        "  * Linear models and neural networks\n",
        "* Classification\n",
        "  * Linear models and gradient boosting machines\n",
        "\n",
        "Moreover, working with the popular __pandas__ library is presented here."
      ]
    },
    {
      "cell_type": "markdown",
      "metadata": {
        "deletable": false,
        "editable": false,
        "nbgrader": {
          "cell_type": "markdown",
          "checksum": "e227473dd8d22f4f1225d7205a31ca60",
          "grade": false,
          "grade_id": "cell-aebb53f1296f7f25",
          "locked": true,
          "schema_version": 3,
          "solution": false,
          "task": false
        },
        "id": "9TCAuQ9MfFc-"
      },
      "source": [
        "## Load Libraries"
      ]
    },
    {
      "cell_type": "code",
      "execution_count": null,
      "metadata": {
        "deletable": false,
        "editable": false,
        "nbgrader": {
          "cell_type": "code",
          "checksum": "57e35efe04c7dc20d1d497deff2c6576",
          "grade": false,
          "grade_id": "cell-47de89ead89817f8",
          "locked": true,
          "schema_version": 3,
          "solution": false,
          "task": false
        },
        "id": "eqCv3O7-fFc_"
      },
      "outputs": [],
      "source": [
        "import numpy as np\n",
        "import pandas as pd\n",
        "import matplotlib.pyplot as plt\n",
        "from matplotlib.colors import rgb2hex\n",
        "import seaborn as sns\n",
        "plt.style.use('dark_background')"
      ]
    },
    {
      "cell_type": "markdown",
      "metadata": {
        "deletable": false,
        "editable": false,
        "nbgrader": {
          "cell_type": "markdown",
          "checksum": "bf84269708d227ed8199f6ed74bfd386",
          "grade": false,
          "grade_id": "cell-e104b64c287bccc1",
          "locked": true,
          "schema_version": 3,
          "solution": false,
          "task": false
        },
        "id": "zP0WU_HNfFdC"
      },
      "source": [
        "## Data Set\n",
        "In this exercise we will use a [data set hosted on Kaggle](https://www.kaggle.com/hankelea/system-identification-of-an-electric-motor).\n",
        "For ease of use and simplicity, we are going to work on a reduced version though, that is provided with this notebook already.\n",
        "\n",
        "The data set represents lab measurements from a test bench, where a three-phase electric motor was externally speed-controlled while being induced with different voltages, leading to corresponding currents and, thus, torque on the motor.\n",
        "\n",
        "### Context\n",
        "The most important aspect of electric vehicles is their efficiency or achievable range.\n",
        "In order to achieve high efficiency, it is essential to avoid the over-dimensioning of the drive train during the design phase.\n",
        "Therefore, the drive train has to be kept as lightweight as possible while at the same time it should be utilized to its maximum extent.\n",
        "This can only be achieved if the dynamic behavior of the drive train is accurately known by the controller/agent.\n",
        "The task of the controller is to achieve a desired torque at the wheels of the car by controlling the currents of the electric motor.\n",
        "\n",
        "Control, in this context, is about choosing appropriate, discrete switching states for the transistors in the attached power electronic unit, that affect the voltage applied to the motor.\n",
        "Knowing which switching state leads to what current change at each point in time helps the controller to choose an appropriate action.\n",
        "Since in the real world many parasitic, intangible and volatile effects are imposed on currents formation, modeling them statistically is an auspicious endeavor.\n",
        "\n",
        "### Features\n",
        "\n",
        "Most of the time, a data set is a table/matrix/2d-tensor with labeled columns (and rows).\n",
        "\n",
        "Here, rows are consecutively enumerated while columns are the following:\n",
        "\n",
        "* __n_1k__: elementary vector applied between (k-1) and k. The elementary vector denotes the label-encoded switching state in the converter.\n",
        "* __id_k__: d-current at k in A (Ampere).\n",
        "* __iq_k__: q-current at k in A (Ampere).\n",
        "* __epsilon_k__: rotor angle at k in rad (Radian).\n",
        "* __n_k__: elementary vector applied between k and (k+1).\n",
        "* __id_k1__: d-current at (k+1) in A (Ampere).\n",
        "* __iq_k1__: q-current at (k+1) in A (Ampere).\n",
        "\n",
        "[Read up on d/q-transformation](https://en.wikipedia.org/wiki/Direct-quadrature-zero_transformation) to understand the coordinate notation of the currents (assuming the amplitude-invariant transformation than the power-invariant).\n",
        "\n",
        "The enlisted features will be utilized for either regression or classification.\n",
        "Depending on the task, the features denoting input and target quantities will vary, such that the specific mapping will be discussed later.\n",
        "\n",
        "Lab measurements from a motor are commonly time series data.\n",
        "Yet, here the records are shuffled, and we only have the link between two elementary vectors (switching states/ actions) in a row itself.\n",
        "\n",
        "### Optional Literature\n",
        "If you find the following exercise intriguing and you would like to keep on investigating, have a look at the scientific papers that describe the background to the underlying data set:\n",
        "* [Part 1](https://arxiv.org/pdf/2003.07273.pdf)\n",
        "* [Part 2](https://arxiv.org/pdf/2003.06268.pdf)"
      ]
    },
    {
      "cell_type": "markdown",
      "metadata": {
        "deletable": false,
        "editable": false,
        "nbgrader": {
          "cell_type": "markdown",
          "checksum": "f03315c72b572121989d8e4624cae070",
          "grade": false,
          "grade_id": "cell-b27844f3da8cecb3",
          "locked": true,
          "schema_version": 3,
          "solution": false,
          "task": false
        },
        "id": "KJlS9eymfFdE"
      },
      "source": [
        "### Load CSV data set"
      ]
    },
    {
      "cell_type": "code",
      "execution_count": null,
      "metadata": {
        "deletable": false,
        "editable": false,
        "nbgrader": {
          "cell_type": "code",
          "checksum": "edda8aadfbebd1ec85b27b37a79fd295",
          "grade": false,
          "grade_id": "cell-37acd3211bc3591f",
          "locked": true,
          "schema_version": 3,
          "solution": false,
          "task": false
        },
        "id": "9BFl1t2LfFdF"
      },
      "outputs": [],
      "source": [
        "df = pd.read_csv('reduced_emotor.csv')\n",
        "print(df.shape)\n",
        "df.head()"
      ]
    },
    {
      "cell_type": "markdown",
      "metadata": {
        "deletable": false,
        "editable": false,
        "nbgrader": {
          "cell_type": "markdown",
          "checksum": "67d4b1303cd0131147c92ac6faab81ef",
          "grade": false,
          "grade_id": "cell-422cb7f5e6909a9c",
          "locked": true,
          "schema_version": 3,
          "solution": false,
          "task": false
        },
        "id": "2E_7ZmFZfFdG"
      },
      "source": [
        "The pandas library makes reading csv files easy, next to its superb data wrangling utilities.\n",
        "\n",
        "Think of pandas as a layer on top of numpy, that is optimized for tabular data and attaches column/row names to a matrix.\n",
        "\n",
        "The main pandas class is the so-called _DataFrame_ which holds a table, and the _Series_  that denotes a single column.\n",
        "Both classes do not only consist of arrays representing the data itself but also of an index (row labeling), that affects basic arithmetic operations between different instantiated objects.\n",
        "\n",
        "Please refer to the pandas notebooks from exercise 1 for a refresher."
      ]
    },
    {
      "cell_type": "markdown",
      "metadata": {
        "deletable": false,
        "editable": false,
        "nbgrader": {
          "cell_type": "markdown",
          "checksum": "cd21f70ebc2118e91364d8d20551162a",
          "grade": false,
          "grade_id": "cell-7808b756256de207",
          "locked": true,
          "schema_version": 3,
          "solution": false,
          "task": false
        },
        "id": "gJAdU4oYfFdI"
      },
      "source": [
        "### Adding new features\n",
        "There are two main ways to add further features to the dataframe."
      ]
    },
    {
      "cell_type": "code",
      "execution_count": null,
      "metadata": {
        "deletable": false,
        "editable": false,
        "nbgrader": {
          "cell_type": "code",
          "checksum": "fef131cce1e6919493c338a1075567a5",
          "grade": false,
          "grade_id": "cell-fb6e9f4fc33dd9a5",
          "locked": true,
          "schema_version": 3,
          "solution": false,
          "task": false
        },
        "id": "_Dbbt02lfFdJ"
      },
      "outputs": [],
      "source": [
        "# new feature \"pairs\"\n",
        "df = df.assign(pairs=lambda r: r.n_1k.astype(str)+'->'+r.n_k.astype(str))\n",
        "# alternatively\n",
        "df['pairs_alternative'] = df.n_1k.astype(str) + '->' + df.n_k.astype(str)\n",
        "\n",
        "assert all(df.pairs == df.pairs_alternative)\n",
        "# remove a feature\n",
        "del df['pairs_alternative']\n",
        "# alternatively\n",
        "# df = df.drop(['pairs_alternative'], axis=1)"
      ]
    },
    {
      "cell_type": "code",
      "execution_count": null,
      "metadata": {
        "deletable": false,
        "editable": false,
        "nbgrader": {
          "cell_type": "code",
          "checksum": "787bd4cc5802b6f6f55972f25db20236",
          "grade": false,
          "grade_id": "cell-aec6adffa5403150",
          "locked": true,
          "schema_version": 3,
          "solution": false,
          "task": false
        },
        "id": "BkC8h-yNfFdK"
      },
      "outputs": [],
      "source": [
        "df.columns"
      ]
    },
    {
      "cell_type": "code",
      "execution_count": null,
      "metadata": {
        "deletable": false,
        "editable": false,
        "nbgrader": {
          "cell_type": "code",
          "checksum": "e13802e23da24eba799ef0a6f43a4874",
          "grade": false,
          "grade_id": "cell-a3eeef12cf6c43c8",
          "locked": true,
          "schema_version": 3,
          "solution": false,
          "task": false
        },
        "id": "OM0NUDXGfFdL"
      },
      "outputs": [],
      "source": [
        "df.pairs.value_counts().sort_index().head(10)"
      ]
    },
    {
      "cell_type": "markdown",
      "metadata": {
        "deletable": false,
        "editable": false,
        "nbgrader": {
          "cell_type": "markdown",
          "checksum": "e92fb2c550bfac0d3ef919e2036b8887",
          "grade": false,
          "grade_id": "cell-929235a4f8d308fb",
          "locked": true,
          "schema_version": 3,
          "solution": false,
          "task": false
        },
        "id": "LlLQz2eofFdL"
      },
      "source": [
        "We recognize, that all transitions within a row appear uniformly throughout the dataset, which is not the case for the original kaggle data but has been intentionally rectified for this exercise's reduced version."
      ]
    },
    {
      "cell_type": "markdown",
      "metadata": {
        "deletable": false,
        "editable": false,
        "nbgrader": {
          "cell_type": "markdown",
          "checksum": "e8f3d72eb30ee93ae7c22f2ff55cc928",
          "grade": false,
          "grade_id": "cell-2a311570ae5f45b5",
          "locked": true,
          "schema_version": 3,
          "solution": false,
          "task": false
        },
        "id": "-Iv7GjIzfFdL"
      },
      "source": [
        "## Exploratory Data Analysis\n",
        "Before any feature engineering should be conducted, it is advisable to investigate the general structure of the data.\n",
        "\n",
        "This process is called exploratory data analysis (EDA) and usually comprises\n",
        "* distribution visualizations,\n",
        "* missing data detection,\n",
        "* substitution of such,\n",
        "* linear correlation analysis,\n",
        "* time series analysis\n",
        "* etc."
      ]
    },
    {
      "cell_type": "markdown",
      "metadata": {
        "deletable": false,
        "editable": false,
        "nbgrader": {
          "cell_type": "markdown",
          "checksum": "ef738372f632a5d434d7649bf4d21b78",
          "grade": false,
          "grade_id": "cell-b3d8f77b0430d827",
          "locked": true,
          "schema_version": 3,
          "solution": false,
          "task": false
        },
        "id": "CjmD_VXBfFdM"
      },
      "source": [
        "### Distribution visualizations"
      ]
    },
    {
      "cell_type": "code",
      "execution_count": null,
      "metadata": {
        "deletable": false,
        "editable": false,
        "nbgrader": {
          "cell_type": "code",
          "checksum": "e5e3436c3204f46e865f1f27407c068c",
          "grade": false,
          "grade_id": "cell-f5ad227060c3bfb8",
          "locked": true,
          "schema_version": 3,
          "solution": false,
          "task": false
        },
        "id": "CgwXCD5IfFdM"
      },
      "outputs": [],
      "source": [
        "def plot_dist(_df):\n",
        "    fig, axes = plt.subplots(1,2,sharex=True, sharey=True)\n",
        "    for c, ax in zip(['n_k', 'n_1k'], axes.flatten()):\n",
        "        sns.countplot(x=c, data=_df,  ax=ax)"
      ]
    },
    {
      "cell_type": "code",
      "execution_count": null,
      "metadata": {
        "deletable": false,
        "editable": false,
        "nbgrader": {
          "cell_type": "code",
          "checksum": "d0abf7b287835eab8dbed691a9a5c334",
          "grade": false,
          "grade_id": "cell-c39f8271e9fcbf72",
          "locked": true,
          "schema_version": 3,
          "solution": false,
          "task": false
        },
        "id": "p0U9Pl3DfFdM"
      },
      "outputs": [],
      "source": [
        "plot_dist(df)"
      ]
    },
    {
      "cell_type": "markdown",
      "metadata": {
        "deletable": false,
        "editable": false,
        "nbgrader": {
          "cell_type": "markdown",
          "checksum": "f5db8ed12bb50f3ea70d9ab46efca7b5",
          "grade": false,
          "grade_id": "cell-dbd820d77bc013a6",
          "locked": true,
          "schema_version": 3,
          "solution": false,
          "task": false
        },
        "id": "999zrSvSfFdN"
      },
      "source": [
        "Each elementary vector occurs around 350 thousand times for both, at time _k_ and time _k-1_ .\n",
        "\n",
        "In the following we plot the distribution of the currents and the motor angle unfolded over each elementary vector.\n",
        "\n",
        "For this we utilize pandas' _groupby()_ function, which helps to group (and even aggregate) the complete data set with respect to a categorical feature."
      ]
    },
    {
      "cell_type": "code",
      "execution_count": null,
      "metadata": {
        "deletable": false,
        "editable": false,
        "nbgrader": {
          "cell_type": "code",
          "checksum": "135956095f515724c3aec05686e32182",
          "grade": false,
          "grade_id": "cell-773db26050061bc0",
          "locked": true,
          "schema_version": 3,
          "solution": false,
          "task": false
        },
        "id": "DYCG7ZgSfFdN"
      },
      "outputs": [],
      "source": [
        "analyzed_cols = [c for c in df if c not in ['n_k', 'n_1k', 'pairs']]\n",
        "\n",
        "# prepare colors\n",
        "color_list = plt.cm.Set3(np.linspace(0, 1, 12))\n",
        "color_d = {'id_k': rgb2hex(color_list[0]),\n",
        "           'id_k1': rgb2hex(color_list[0]),\n",
        "           'iq_k': rgb2hex(color_list[1]),\n",
        "           'iq_k1': rgb2hex(color_list[1]),\n",
        "           'epsilon_k': rgb2hex(color_list[2])}\n",
        "\n",
        "def dist_plot(dframe, cols_to_plot):\n",
        "    unique_elem_vecs = dframe['n_k'].nunique()\n",
        "    # create plot\n",
        "    fig, axes = plt.subplots(nrows=unique_elem_vecs, ncols=len(cols_to_plot),\n",
        "                             sharex='col', sharey='col', figsize=(3*unique_elem_vecs, 10))\n",
        "    for k, _df in dframe.groupby('n_k'):\n",
        "        for i, c in enumerate(cols_to_plot):\n",
        "            sns.distplot(_df[c], ax=axes[k-1, i], color=color_d.get(c, None))\n",
        "            if i == 0:\n",
        "                axes[k-1, i].set_ylabel(f'n_k = {k}')\n",
        "            if k == 1:\n",
        "                axes[k-1, i].set_title(c)\n",
        "            xlbl = c if k == 7 else ''\n",
        "            axes[k-1, i].set_xlabel(xlbl)\n",
        "\n",
        "    plt.tight_layout()\n",
        "dist_plot(df, analyzed_cols)"
      ]
    },
    {
      "cell_type": "markdown",
      "metadata": {
        "deletable": false,
        "editable": false,
        "nbgrader": {
          "cell_type": "markdown",
          "checksum": "7a1c9d0dc76d3c22d8b029f4f598c87a",
          "grade": false,
          "grade_id": "cell-0246df5fc7d9b075",
          "locked": true,
          "schema_version": 3,
          "solution": false,
          "task": false
        },
        "id": "NuMsJzF7fFdN"
      },
      "source": [
        "_(Double-click picture if it appears too small)_.\n",
        "\n",
        "It seems that _epsilon_k_ exhibits a sine shaped histogram while its range covers $[-\\pi, \\pi]$.\n",
        "\n",
        "More subtle, we recognize a semi-sphere shape of the 2d histogram between the currents (remember, d and q currents are to be plotted perpendicular to each other).\n",
        "It might be auspicious, to add another feature denoting the current vector norm sqrt(id^2 + iq^2).\n",
        "From the principle of d/q-transformation, we know that the $\\ell_2$-norm of the d- and q-current denotes the current amplitude in the system.\n",
        "From that we recognize, that smaller current magnitudes seem more likely than higher."
      ]
    },
    {
      "cell_type": "markdown",
      "metadata": {
        "deletable": false,
        "editable": false,
        "nbgrader": {
          "cell_type": "markdown",
          "checksum": "714144e6ac64e5c1339db364fa629a30",
          "grade": false,
          "grade_id": "cell-7368c69fea2082d4",
          "locked": true,
          "points": 0,
          "schema_version": 3,
          "solution": false,
          "task": true
        },
        "id": "-U6kQ01LfFdN"
      },
      "source": [
        "#### Task 1: Add features and plot their distributions\n",
        "* Add sine and cosine of the rotor angle to the dataframe\n",
        "* Add the current vector norm of both time steps to the dataframe: $i_{norm} = \\sqrt{i_d^2 + i_q^2}$\n",
        "* Plot their distributions"
      ]
    },
    {
      "cell_type": "code",
      "execution_count": null,
      "metadata": {
        "deletable": false,
        "nbgrader": {
          "cell_type": "code",
          "checksum": "4627ffddc82590943a1b256996ea29e0",
          "grade": true,
          "grade_id": "cell-df82e228883748d8",
          "locked": false,
          "points": 0,
          "schema_version": 3,
          "solution": true,
          "task": false
        },
        "id": "khMFHju6fFdO"
      },
      "outputs": [],
      "source": [
        "# YOUR CODE HERE\n",
        "raise NotImplementedError()"
      ]
    },
    {
      "cell_type": "markdown",
      "metadata": {
        "deletable": false,
        "nbgrader": {
          "cell_type": "markdown",
          "checksum": "4575b623e9f2c86de38f731f79cd648d",
          "grade": true,
          "grade_id": "cell-273354ee2c57bdb1",
          "locked": false,
          "points": 0,
          "schema_version": 3,
          "solution": true,
          "task": false
        },
        "id": "UtOXFNjyfFdO"
      },
      "source": [
        "YOUR ANSWER HERE"
      ]
    },
    {
      "cell_type": "code",
      "execution_count": null,
      "metadata": {
        "deletable": false,
        "nbgrader": {
          "cell_type": "code",
          "checksum": "b607121fb58a941bcbf989e8b329f32b",
          "grade": true,
          "grade_id": "cell-dbd6ba2be898d482",
          "locked": false,
          "points": 0,
          "schema_version": 3,
          "solution": true,
          "task": false
        },
        "id": "cWFddTajfFdO"
      },
      "outputs": [],
      "source": [
        "# YOUR CODE HERE\n",
        "raise NotImplementedError()"
      ]
    },
    {
      "cell_type": "code",
      "execution_count": null,
      "metadata": {
        "deletable": false,
        "nbgrader": {
          "cell_type": "code",
          "checksum": "151da6689539b0e9293c7982c6c40f89",
          "grade": true,
          "grade_id": "cell-f7e3783625157297",
          "locked": false,
          "points": 0,
          "schema_version": 3,
          "solution": true,
          "task": false
        },
        "id": "ADXXzEkgfFdO"
      },
      "outputs": [],
      "source": [
        "# YOUR CODE HERE\n",
        "raise NotImplementedError()"
      ]
    },
    {
      "cell_type": "markdown",
      "metadata": {
        "deletable": false,
        "editable": false,
        "nbgrader": {
          "cell_type": "markdown",
          "checksum": "2c612f1d5446d167a25843d4bf667663",
          "grade": false,
          "grade_id": "cell-2e6ec9eb45edb784",
          "locked": true,
          "schema_version": 3,
          "solution": false,
          "task": false
        },
        "id": "hHOuiz4BfFdP"
      },
      "source": [
        "### Scatter plots\n",
        "Probably, the previous currents are good indicators for the next currents.\n",
        "Let's visualize this relationship unfold over each transition."
      ]
    },
    {
      "cell_type": "code",
      "execution_count": null,
      "metadata": {
        "deletable": false,
        "editable": false,
        "nbgrader": {
          "cell_type": "code",
          "checksum": "02fd633ba699bf23e6451c0cc7641ac8",
          "grade": false,
          "grade_id": "cell-d3b911cceb0a7f66",
          "locked": true,
          "schema_version": 3,
          "solution": false,
          "task": false
        },
        "id": "x33pJJ8ffFdP"
      },
      "outputs": [],
      "source": [
        "n_cols = 7\n",
        "n_rows = 7\n",
        "fig, axes = plt.subplots(nrows=n_rows, ncols=n_cols,\n",
        "                         sharex=True, sharey=True, figsize=(20, 20))\n",
        "df = df.sort_values(by='pairs')\n",
        "for ax, (k, _df) in zip(axes.flatten(), df.groupby('pairs')):\n",
        "    t_prev, t = k.split('->')\n",
        "    ax.scatter(_df.id_k, _df.id_k1, s=.5, label='d')\n",
        "    ax.scatter(_df.iq_k, _df.iq_k1, s=.5, label='q')\n",
        "    if t == '1':\n",
        "        ax.set_ylabel(f'n_1k = {t_prev}\\n i_k1 in A')\n",
        "    if t_prev == '7':\n",
        "        ax.set_xlabel(f'i_k in A\\n n_k = {t}')\n",
        "    ax.grid(alpha=.5)\n",
        "plt.tight_layout()\n",
        "\n",
        "ax.legend(ncol=2, loc='lower center', bbox_to_anchor=(.5, 1), bbox_transform=fig.transFigure, markerscale=6)"
      ]
    },
    {
      "cell_type": "markdown",
      "metadata": {
        "deletable": false,
        "editable": false,
        "nbgrader": {
          "cell_type": "markdown",
          "checksum": "173f700090b47469eaf7fb99b33aaa98",
          "grade": false,
          "grade_id": "cell-d2c046101730d429",
          "locked": true,
          "schema_version": 3,
          "solution": false,
          "task": false
        },
        "id": "ep89R9BgfFdP"
      },
      "source": [
        "Apparently, transitions to switching_state == 1 come with far less scatter than for other switching states.\n",
        "Beyond this, the overall scatter seems relatively linear.\n",
        "\n",
        "We investigate this by a linear correlation heat map."
      ]
    },
    {
      "cell_type": "markdown",
      "metadata": {
        "deletable": false,
        "editable": false,
        "nbgrader": {
          "cell_type": "markdown",
          "checksum": "cb02f7ea0b52fcad6bd88ab744bf1835",
          "grade": false,
          "grade_id": "cell-845c3e1862504d6a",
          "locked": true,
          "schema_version": 3,
          "solution": false,
          "task": false
        },
        "id": "0qbrnCSpfFdP"
      },
      "source": [
        "### Linear Correlation\n",
        "The [Pearson correlation coefficient](https://en.wikipedia.org/wiki/Pearson_correlation_coefficient) indicates the strength of the linear correlation between two random variables."
      ]
    },
    {
      "cell_type": "code",
      "execution_count": null,
      "metadata": {
        "deletable": false,
        "editable": false,
        "nbgrader": {
          "cell_type": "code",
          "checksum": "d2c62ed99d2bac5c855043dd33b072ce",
          "grade": false,
          "grade_id": "cell-e6507791679213e1",
          "locked": true,
          "schema_version": 3,
          "solution": false,
          "task": false
        },
        "id": "bXHYmTpvfFdP"
      },
      "outputs": [],
      "source": [
        "corr = df.corr()\n",
        "# Generate a mask for the upper triangle\n",
        "mask = np.zeros_like(corr, dtype=np.bool)\n",
        "mask[np.triu_indices_from(mask)] = True\n",
        "\n",
        "plt.figure(figsize=(14,14))\n",
        "_ = sns.heatmap(corr, mask=mask, center=0, square=True, linewidths=.5, cbar_kws={\"shrink\": .8})"
      ]
    },
    {
      "cell_type": "markdown",
      "metadata": {
        "deletable": false,
        "editable": false,
        "nbgrader": {
          "cell_type": "markdown",
          "checksum": "34314f7b0ad8b850d2cc9d6b79b16002",
          "grade": false,
          "grade_id": "cell-45437311f7e70024",
          "locked": true,
          "schema_version": 3,
          "solution": false,
          "task": false
        },
        "id": "R9Wc29XsfFdQ"
      },
      "source": [
        "It becomes obvious, that features from previous time steps exhibit the strongest linear correlation with those of the actual time step.\n",
        "\n",
        "This suggests a strong timely dependency, currents follow a [non-stationary process](https://en.wikipedia.org/wiki/Stationary_process).\n",
        "\n",
        "It is very likely, that more history information for each point in time would reveal precious patterns for an exact forecast of the currents, but these are not available here.\n",
        "\n",
        "__Bonus task__ : Can you reconstruct measurement sessions from the shuffled dataset by comparison of samples? Use the original data set for this."
      ]
    },
    {
      "cell_type": "markdown",
      "metadata": {
        "deletable": false,
        "editable": false,
        "nbgrader": {
          "cell_type": "markdown",
          "checksum": "9f3bdc8e898ed751a5d5dff08c8c5369",
          "grade": false,
          "grade_id": "cell-3d387b56880b066c",
          "locked": true,
          "schema_version": 3,
          "solution": false,
          "task": false
        },
        "id": "nlQcG6QBfFdQ"
      },
      "source": [
        "## Cross Validation"
      ]
    },
    {
      "cell_type": "markdown",
      "metadata": {
        "deletable": false,
        "editable": false,
        "nbgrader": {
          "cell_type": "markdown",
          "checksum": "568137a1d9354f6f75950990c5baaff9",
          "grade": false,
          "grade_id": "cell-dde17289924955d7",
          "locked": true,
          "schema_version": 3,
          "solution": false,
          "task": false
        },
        "id": "k7OkxuoyfFdQ"
      },
      "source": [
        "Before we start modeling, we need to agree on a certain cross-validation (CV) technique.\n",
        "We will choose a method from scikit-learn.\n",
        "\n",
        "Please install it with\n",
        "```\n",
        "pip install scikit-learn\n",
        "```\n",
        "\n",
        "Since distribution of elementary vectors is rather balanced, we will go with a simple CV: 5-Fold CV.\n",
        "\n",
        "Recall from the lecture what K-Fold CV stands for."
      ]
    },
    {
      "cell_type": "markdown",
      "metadata": {
        "deletable": false,
        "editable": false,
        "nbgrader": {
          "cell_type": "markdown",
          "checksum": "36b86b8fd13d9b08f1d59f6322f51618",
          "grade": false,
          "grade_id": "cell-d3c24d634e4afe84",
          "locked": true,
          "schema_version": 3,
          "solution": false,
          "task": false
        },
        "id": "TYKPGK3_fFdQ"
      },
      "source": [
        "![](kfold-cv.png)"
      ]
    },
    {
      "cell_type": "code",
      "execution_count": null,
      "metadata": {
        "deletable": false,
        "editable": false,
        "nbgrader": {
          "cell_type": "code",
          "checksum": "85ff6c93125738ab151e49abb1961391",
          "grade": false,
          "grade_id": "cell-337cbc5aaf52aad6",
          "locked": true,
          "schema_version": 3,
          "solution": false,
          "task": false
        },
        "id": "GDfy4OfIfFdQ"
      },
      "outputs": [],
      "source": [
        "from sklearn.model_selection import KFold"
      ]
    },
    {
      "cell_type": "code",
      "execution_count": null,
      "metadata": {
        "deletable": false,
        "editable": false,
        "nbgrader": {
          "cell_type": "code",
          "checksum": "bdd1d053acea3ff2902cfaf08392f6e3",
          "grade": false,
          "grade_id": "cell-c067bf5e788d3108",
          "locked": true,
          "schema_version": 3,
          "solution": false,
          "task": false
        },
        "id": "y3c7O1bMfFdR"
      },
      "outputs": [],
      "source": [
        "kf = KFold(n_splits=5, shuffle=True)"
      ]
    },
    {
      "cell_type": "markdown",
      "metadata": {
        "deletable": false,
        "editable": false,
        "nbgrader": {
          "cell_type": "markdown",
          "checksum": "0173242ca4e5144210debf3d229de08e",
          "grade": false,
          "grade_id": "cell-613a9001732e0616",
          "locked": true,
          "schema_version": 3,
          "solution": false,
          "task": false
        },
        "id": "tfHTTBP0fFdR"
      },
      "source": [
        "## Regression\n",
        "We start off with a regression example: Given the data set, predict the future currents at any time.\n",
        "\n",
        "### Linear Regression"
      ]
    },
    {
      "cell_type": "code",
      "execution_count": null,
      "metadata": {
        "deletable": false,
        "editable": false,
        "nbgrader": {
          "cell_type": "code",
          "checksum": "1235da3f3f0aa2dd2fd52e9226dad81b",
          "grade": false,
          "grade_id": "cell-3022be79207dcf45",
          "locked": true,
          "schema_version": 3,
          "solution": false,
          "task": false
        },
        "id": "wM4PlvBAfFdR"
      },
      "outputs": [],
      "source": [
        "from sklearn.linear_model import LinearRegression\n",
        "from sklearn.metrics import mean_squared_error as mse\n",
        "\n",
        "\n",
        "# more feature engineering\n",
        "enriched_df = df.assign(id_k_sqrd=lambda x: x.id_k**2,\n",
        "                        iq_k_sqrd=lambda x: x.iq_k**2,\n",
        "                        iq_x_id_k=lambda x: x.id_k*x.iq_k,\n",
        "                        i_norm_sqrd=lambda x: x.i_norm_k**2,\n",
        "                        id_k_log=lambda x: np.log1p(x.id_k.abs()),\n",
        "                        iq_k_log=lambda x: np.log1p(x.iq_k),\n",
        "                        id_k_exp=lambda x: np.exp(-x.id_k.abs()),\n",
        "                        iq_k_exp=lambda x: np.exp(-x.iq_k.abs()),\n",
        "                        i_norm_log=lambda x: np.log1p(x.i_norm_k),\n",
        "                        i_norm_exp=lambda x: np.exp(x.i_norm_k.abs()),\n",
        "                        id_plus_iq=lambda x: x.id_k+x.iq_k,\n",
        "                        id_minus_iq=lambda x: x.id_k-x.iq_k,\n",
        "                        id_over_iq=lambda x: x.id_k/ (x.iq_k + 1),\n",
        "                        iq_over_id=lambda x: x.iq_k/ (x.id_k - 1),\n",
        "                        # the following features encompass the whole data set. Is this problematic?\n",
        "                        id_pairgroup_normed=lambda x: x.id_k - df.groupby('pairs')['id_k'].transform('mean'),\n",
        "                        iq_pairgroup_normed=lambda x: x.iq_k - df.groupby('pairs')['iq_k'].transform('mean'),\n",
        "                        id_ngroup_normed=lambda x: x.id_k - df.groupby('n_k')['id_k'].transform('mean'),\n",
        "                        iq_ngroup_normed=lambda x: x.iq_k - df.groupby('n_k')['iq_k'].transform('mean'),\n",
        "                      )\n",
        "\n",
        "y_cols = ['id_k1', 'iq_k1', 'i_norm_k1']\n",
        "x_cols = [c for c in enriched_df if c not in y_cols + ['pairs'] ]\n",
        "\n",
        "for i, (train_index, test_index) in enumerate(kf.split(enriched_df)):\n",
        "    x_train, y_train = enriched_df.loc[train_index, x_cols], enriched_df.loc[train_index, y_cols]\n",
        "    x_test, y_test = enriched_df.loc[test_index, x_cols], enriched_df.loc[test_index, y_cols].values\n",
        "\n",
        "    # feature aggregations over the training set\n",
        "    model = LinearRegression()\n",
        "\n",
        "    model.fit(x_train, y_train)\n",
        "    prediction = model.predict(x_test)\n",
        "\n",
        "    result_string = ', '.join(f'{y_cols[j]}: {mse(y_test[:, j], prediction[:, j]):.2f} A²' for j in range(len(y_cols)))\n",
        "    print(f'Fold {i}: \\nMSE:\\t', result_string)"
      ]
    },
    {
      "cell_type": "markdown",
      "metadata": {
        "deletable": false,
        "editable": false,
        "nbgrader": {
          "cell_type": "markdown",
          "checksum": "3ae836f2e9b4ad41a26d887efc51a5c0",
          "grade": false,
          "grade_id": "cell-6e815061baed0ec3",
          "locked": true,
          "schema_version": 3,
          "solution": false,
          "task": false
        },
        "id": "nltSZ1CAfFdR"
      },
      "source": [
        "The error is homogenous across folds, which affirms our CV strategy.\n",
        "\n",
        "However, the estimation error is fairly large."
      ]
    },
    {
      "cell_type": "markdown",
      "metadata": {
        "deletable": false,
        "editable": false,
        "nbgrader": {
          "cell_type": "markdown",
          "checksum": "1eda32b5f4c7a0f7ea65681469b71357",
          "grade": false,
          "grade_id": "cell-e2446a51101d2445",
          "locked": true,
          "points": 0,
          "schema_version": 3,
          "solution": false,
          "task": true
        },
        "id": "JaQGlojYfFdT"
      },
      "source": [
        "#### Task 2: What did we miss to do before fitting the linear model?\n",
        "Two important preprocessing steps were missed before conducting model training.\n",
        "Which might they be? It has something to do with categorical values and value ranges.\n",
        "\n",
        "In the following, rectify this blunder, and prepare the data appropriately.\n",
        "* Conduct the CV again.\n",
        "* Plot the estimation error of the last fold over the corresponding ground truth.\n",
        "\n",
        "Can you think of more features? Do you think there might be a problem with those features that were aggregated over the full data set in the beginning?"
      ]
    },
    {
      "cell_type": "markdown",
      "metadata": {
        "deletable": false,
        "nbgrader": {
          "cell_type": "markdown",
          "checksum": "81a440524a645b1b0c0a192f1a3c07a6",
          "grade": true,
          "grade_id": "cell-bca37bee3beb1da5",
          "locked": false,
          "points": 0,
          "schema_version": 3,
          "solution": true,
          "task": false
        },
        "id": "1SoO5dckfFdU"
      },
      "source": [
        "YOUR ANSWER HERE"
      ]
    },
    {
      "cell_type": "code",
      "execution_count": null,
      "metadata": {
        "deletable": false,
        "nbgrader": {
          "cell_type": "code",
          "checksum": "69a29987b5ca1b6a66308a37dd7234bd",
          "grade": true,
          "grade_id": "cell-d9f9c645f73de47c",
          "locked": false,
          "points": 0,
          "schema_version": 3,
          "solution": true,
          "task": false
        },
        "id": "wzO19BV1fFdU"
      },
      "outputs": [],
      "source": [
        "# YOUR CODE HERE\n",
        "raise NotImplementedError()"
      ]
    },
    {
      "cell_type": "markdown",
      "metadata": {
        "deletable": false,
        "nbgrader": {
          "cell_type": "markdown",
          "checksum": "4abd966d14dd4bf382bdeef9becc1db1",
          "grade": true,
          "grade_id": "cell-c141066ee4b61c0a",
          "locked": false,
          "points": 0,
          "schema_version": 3,
          "solution": true,
          "task": false
        },
        "id": "zrKoqpi-fFdV"
      },
      "source": [
        "YOUR ANSWER HERE"
      ]
    },
    {
      "cell_type": "code",
      "execution_count": null,
      "metadata": {
        "deletable": false,
        "nbgrader": {
          "cell_type": "code",
          "checksum": "6dde7f1da374978abae171be9e5e9de9",
          "grade": true,
          "grade_id": "cell-100b0c82137fbaa7",
          "locked": false,
          "points": 0,
          "schema_version": 3,
          "solution": true,
          "task": false
        },
        "id": "UmMxuh0VfFdV"
      },
      "outputs": [],
      "source": [
        "# YOUR CODE HERE\n",
        "raise NotImplementedError()"
      ]
    },
    {
      "cell_type": "markdown",
      "metadata": {
        "deletable": false,
        "nbgrader": {
          "cell_type": "markdown",
          "checksum": "0f1816aa09449824ac9b5cda68151d4d",
          "grade": true,
          "grade_id": "cell-aa8d7b637f1fee4b",
          "locked": false,
          "points": 0,
          "schema_version": 3,
          "solution": true,
          "task": false
        },
        "id": "Lr0fukEOfFdV"
      },
      "source": [
        "YOUR ANSWER HERE"
      ]
    },
    {
      "cell_type": "markdown",
      "metadata": {
        "deletable": false,
        "editable": false,
        "nbgrader": {
          "cell_type": "markdown",
          "checksum": "ac5d27ffc393d0fd014408caba63a5c3",
          "grade": false,
          "grade_id": "cell-c095dbc26d1cee80",
          "locked": true,
          "schema_version": 3,
          "solution": false,
          "task": false
        },
        "id": "6y_zKxqBfFdV"
      },
      "source": [
        "## Neural Networks\n",
        "In the following, a neural network class is given, which can be used the very same way as the scikit-learn linear model.\n",
        "\n",
        "For the imports to work, please install tensorflow 2:\n",
        "\n",
        "```\n",
        "pip install tensorflow\n",
        "```\n"
      ]
    },
    {
      "cell_type": "code",
      "execution_count": null,
      "metadata": {
        "deletable": false,
        "editable": false,
        "nbgrader": {
          "cell_type": "code",
          "checksum": "4d3dd32c1dadd584267342a029711ca9",
          "grade": false,
          "grade_id": "cell-2d6fc14ffdb1a429",
          "locked": true,
          "schema_version": 3,
          "solution": false,
          "task": false
        },
        "id": "nVkO2w-8fFdW"
      },
      "outputs": [],
      "source": [
        "from tensorflow.keras.models import Model\n",
        "import tensorflow.keras.optimizers as opts\n",
        "from tensorflow.keras import layers, regularizers, initializers\n",
        "from tensorflow.keras.wrappers.scikit_learn import KerasRegressor\n",
        "from tensorflow.keras.callbacks import EarlyStopping, ReduceLROnPlateau\n",
        "\n",
        "def build_mlp_model(x_shape=(100, 1, 10),  # input shape to the NN\n",
        "                  n_layers=1,  # number of hidden layers\n",
        "                  n_units=64,  # number of neurons per hidden layer\n",
        "                  kernel_reg=1e-9,  # kernel regularization strength\n",
        "                  activity_reg=1e-9,  # activity regularization strength\n",
        "                  bias_reg=1e-9,  # bias regularization strength\n",
        "                  activation='relu',  # activation function\n",
        "                  lr_rate=1e-5,  # learning rate (step size)\n",
        "                  loss='mse',  # cost function for training (here, MSE)\n",
        "                  n_targets=1,  # number of neurons in output layer\n",
        "                  seed=None, print_summary=True):\n",
        "    \"\"\"build mlp model\"\"\"\n",
        "\n",
        "    cfg = {\n",
        "        'units': int(n_units),\n",
        "        'kernel_regularizer': regularizers.l2(kernel_reg),\n",
        "        'activity_regularizer': regularizers.l2(activity_reg),\n",
        "        'bias_regularizer': regularizers.l2(bias_reg),\n",
        "        'kernel_initializer': initializers.lecun_normal(seed=seed),\n",
        "        'activation': activation,\n",
        "    }\n",
        "\n",
        "    # keras functional API\n",
        "    x = layers.Input(shape=x_shape)  # Input layer\n",
        "    y = layers.Dense(**cfg)(x)  # Hidden layer (feed-forward)\n",
        "    if n_layers > 1:\n",
        "        for i in range(n_layers-1):\n",
        "            y = layers.Dense(**cfg)(y)   # Hidden layer (feed-forward)\n",
        "    y = layers.Dense(n_targets)(y)  # Output layer (feed-forward)\n",
        "\n",
        "    model = Model(inputs=x, outputs=y)\n",
        "    model.compile(optimizer=opts.Adam(lr=lr_rate), loss=loss)\n",
        "    if print_summary:\n",
        "        model.summary()\n",
        "    return model\n",
        "\n",
        "class MLP(KerasRegressor):\n",
        "    \"\"\"Multi-Layer Perceptron with Scikit-learn API\"\"\"\n",
        "\n",
        "    def __init__(self, len_x_cols, len_y_cols, print_summary=True):\n",
        "        # Hard coded build function and kwargs\n",
        "        KerasRegressor_config = {'batch_size': 128,  # how many samples per batch\n",
        "                               'epochs': 99,  # amount of iterations over the data set\n",
        "                               'activation': 'relu',  # activation function\n",
        "                               'n_layers': 1,  # no. hidden layers\n",
        "                               'n_units': 32,  # no. hidden units/neurons\n",
        "                               'kernel_reg': 1e-9,  # kernel l2 regularization strength\n",
        "                               'activity_reg': 1e-9,  # activity l2 regularization strength\n",
        "                               'bias_reg': 1e-9,  # bias l2 regularization strength\n",
        "                               'lr_rate': 5e-4,  # learn rate\n",
        "                               'n_targets': len_y_cols,  # no. targets\n",
        "                               'loss': 'mse',  # loss function\n",
        "                               'verbose': 1,  # verbosity\n",
        "                               'x_shape': (len_x_cols,),  # input shape into NN\n",
        "                               'print_summary': print_summary\n",
        "                               }\n",
        "        super().__init__(build_fn=build_mlp_model, **KerasRegressor_config)\n",
        "\n",
        "    def fit(self, X, y, **kwargs):\n",
        "\n",
        "        # Neural Network training encompasses validation against another validation\n",
        "        #  set (next to those of kfold CV), on which overfitting is monitored per epoch\n",
        "        if kwargs.get('validation_data', None) is None:\n",
        "            # determine validation set dynamically\n",
        "            val_ratio = 0.1  # 10% validation data\n",
        "            if isinstance(X, pd.DataFrame): X = X.values\n",
        "            if isinstance(y, pd.DataFrame): y = y.values\n",
        "            n_val_set = int(val_ratio * len(X))\n",
        "            X, X_val = X[:-n_val_set, :], X[-n_val_set:, :]\n",
        "            if len(y.shape) == 1:\n",
        "                y = y[:, np.newaxis]\n",
        "            y, y_val = y[:-n_val_set, :], y[-n_val_set:, :]\n",
        "            kwargs['validation_data'] = (X_val, y_val)\n",
        "\n",
        "        # Add learn scheduling\n",
        "        #  Early stopping: Stop training if validation error plateaus\n",
        "        #  ReduceLrOnPlateau: If loss on train set plateaus, reduce learn rate\n",
        "        kwargs['callbacks'] = [EarlyStopping(monitor='val_loss',\n",
        "                                              min_delta=1e-3,\n",
        "                                              patience=10,\n",
        "                                              verbose=1),\n",
        "                                ReduceLROnPlateau(monitor='loss',\n",
        "                                                  patience=5,\n",
        "                                                  factor=0.5), ]\n",
        "        kwargs['epochs'] = 20\n",
        "        kwargs['batch_size'] = 64\n",
        "        ret = super().fit(X, y, **kwargs)\n",
        "\n",
        "        return ret"
      ]
    },
    {
      "cell_type": "markdown",
      "metadata": {
        "deletable": false,
        "editable": false,
        "nbgrader": {
          "cell_type": "markdown",
          "checksum": "c0cdace070981a175f12472a36f54dff",
          "grade": false,
          "grade_id": "cell-2279090db77d2faa",
          "locked": true,
          "points": 0,
          "schema_version": 3,
          "solution": false,
          "task": true
        },
        "id": "5IDcPfXMfFdW"
      },
      "source": [
        "#### Task 3: Conduct CV under the same regression task as above.\n",
        "Is a neural network better?\n",
        "\n",
        "Be aware that training time of a neural network is substantially longer than for linear models. If you face out-of-memory errors, please reduce the n_units parameter, the batch_size parameter, or subsample the data set.\n",
        "\n",
        "Bonus task: Try to tweak the hyperparameters of the NN in order to achieve a better performance.\n",
        "\n",
        "If you find a decent setting, you are invited to post your solution to [kaggle kernels](https://www.kaggle.com/hankelea/system-identification-of-an-electric-motor/kernels). Don't be shy!"
      ]
    },
    {
      "cell_type": "markdown",
      "metadata": {
        "deletable": false,
        "nbgrader": {
          "cell_type": "markdown",
          "checksum": "9af22d7f1b210ca0637f59ba8149c099",
          "grade": true,
          "grade_id": "cell-84e19a062aa47b0a",
          "locked": false,
          "points": 0,
          "schema_version": 3,
          "solution": true,
          "task": false
        },
        "id": "2i3gT0pXfFdW"
      },
      "source": [
        "YOUR ANSWER HERE"
      ]
    },
    {
      "cell_type": "code",
      "execution_count": null,
      "metadata": {
        "deletable": false,
        "nbgrader": {
          "cell_type": "code",
          "checksum": "b1a56c756d22a19fbf018cb30e03f7b4",
          "grade": true,
          "grade_id": "cell-67e0d0c697d6211d",
          "locked": false,
          "points": 0,
          "schema_version": 3,
          "solution": true,
          "task": false
        },
        "id": "HoWbQuhIfFdX"
      },
      "outputs": [],
      "source": [
        "# YOUR CODE HERE\n",
        "raise NotImplementedError()"
      ]
    },
    {
      "cell_type": "code",
      "execution_count": null,
      "metadata": {
        "deletable": false,
        "nbgrader": {
          "cell_type": "code",
          "checksum": "7769d1d07db660ceaf11c5bbe512189e",
          "grade": true,
          "grade_id": "cell-d5d9aba25ae5a099",
          "locked": false,
          "points": 0,
          "schema_version": 3,
          "solution": true,
          "task": false
        },
        "id": "UGeSGp-dfFdX"
      },
      "outputs": [],
      "source": [
        "# YOUR CODE HERE\n",
        "raise NotImplementedError()"
      ]
    },
    {
      "cell_type": "markdown",
      "metadata": {
        "deletable": false,
        "editable": false,
        "nbgrader": {
          "cell_type": "markdown",
          "checksum": "d332c390892141bada7f0f8b37ee41d0",
          "grade": false,
          "grade_id": "cell-3dbcfd14e582584d",
          "locked": true,
          "schema_version": 3,
          "solution": false,
          "task": false
        },
        "id": "OBwaFNp-fFdX"
      },
      "source": [
        "## Classification\n",
        "We swap the task from regression to classification by predicting __n_k__ given all other features including currents at time k+1.\n",
        "\n",
        "We start off with [logistic regression](https://scikit-learn.org/stable/modules/linear_model.html#logistic-regression) (which is a classifying model despite its name).\n",
        "\n",
        "### Logistic Regression"
      ]
    },
    {
      "cell_type": "code",
      "execution_count": null,
      "metadata": {
        "deletable": false,
        "editable": false,
        "nbgrader": {
          "cell_type": "code",
          "checksum": "f56b295714699b5c511edcf803160312",
          "grade": false,
          "grade_id": "cell-2a4a1f71cff1c8c4",
          "locked": true,
          "schema_version": 3,
          "solution": false,
          "task": false
        },
        "id": "8I3eLjJAfFdY"
      },
      "outputs": [],
      "source": [
        "from sklearn.linear_model import LogisticRegression\n",
        "from sklearn.metrics import confusion_matrix, log_loss  # cross-entropy error\n",
        "from sklearn.exceptions import ConvergenceWarning\n",
        "import warnings\n",
        "warnings.filterwarnings('ignore', category=ConvergenceWarning)\n",
        "\n",
        "# instantiate a logistic regression model with the following arguments for faster training\n",
        "LogisticRegression(solver='sag', multi_class='multinomial', max_iter=30, n_jobs=-1)"
      ]
    },
    {
      "cell_type": "markdown",
      "metadata": {
        "deletable": false,
        "editable": false,
        "nbgrader": {
          "cell_type": "markdown",
          "checksum": "93c804d2ccca587e85d3820c61c60765",
          "grade": false,
          "grade_id": "cell-c0ddeecf30589a68",
          "locked": true,
          "points": 0,
          "schema_version": 3,
          "solution": false,
          "task": true
        },
        "id": "dNOKXry7fFdY"
      },
      "source": [
        "#### Task 4: Conduct CV with LogisticRegression under a classification task\n",
        "* Predict __n_k__ - all other features are allowed as input features.\n",
        "Use the [cross-entropy loss](https://scikit-learn.org/stable/modules/model_evaluation.html#log-loss) as metric.\n",
        "* Print the corresponding [confusion matrix](https://scikit-learn.org/stable/modules/model_evaluation.html#confusion-matrix) of the last fold's prediction\n",
        "\n",
        "Tip: We need to restore the original n_k feature but keep n_1k one-hot-encoded in order to use it as input feature."
      ]
    },
    {
      "cell_type": "markdown",
      "metadata": {
        "deletable": false,
        "nbgrader": {
          "cell_type": "markdown",
          "checksum": "9f5012ee8200222a8fb744470d30b0f9",
          "grade": true,
          "grade_id": "cell-c3efd40209e38f07",
          "locked": false,
          "points": 0,
          "schema_version": 3,
          "solution": true,
          "task": false
        },
        "id": "5318RGplfFdZ"
      },
      "source": [
        "YOUR ANSWER HERE"
      ]
    },
    {
      "cell_type": "code",
      "execution_count": null,
      "metadata": {
        "deletable": false,
        "nbgrader": {
          "cell_type": "code",
          "checksum": "87bdc494dd8db9c72d39ccca6fb5ae2f",
          "grade": true,
          "grade_id": "cell-0a2f52bccac20c2b",
          "locked": false,
          "points": 0,
          "schema_version": 3,
          "solution": true,
          "task": false
        },
        "id": "hiBb4FbAfFdZ"
      },
      "outputs": [],
      "source": [
        "# YOUR CODE HERE\n",
        "raise NotImplementedError()"
      ]
    },
    {
      "cell_type": "code",
      "execution_count": null,
      "metadata": {
        "deletable": false,
        "nbgrader": {
          "cell_type": "code",
          "checksum": "4de282b87cc1086450130a6374b24f53",
          "grade": true,
          "grade_id": "cell-8c1a77f6d53da677",
          "locked": false,
          "points": 0,
          "schema_version": 3,
          "solution": true,
          "task": false
        },
        "id": "bvZ5Q-0NfFdZ"
      },
      "outputs": [],
      "source": [
        "# YOUR CODE HERE\n",
        "raise NotImplementedError()"
      ]
    },
    {
      "cell_type": "markdown",
      "metadata": {
        "deletable": false,
        "editable": false,
        "nbgrader": {
          "cell_type": "markdown",
          "checksum": "753158ec113292a45fb8c251c66983a8",
          "grade": false,
          "grade_id": "cell-3b38c77982865484",
          "locked": true,
          "schema_version": 3,
          "solution": false,
          "task": false
        },
        "id": "OjnfrghUfFda"
      },
      "source": [
        "### Gradient Boosting Machines\n",
        "\n",
        "For the classification with GBMs we will utilize [Microsoft's lightGBM](https://lightgbm.readthedocs.io/en/latest/index.html), which comes with a scikit-learn estimator interface:\n",
        "\n",
        "```\n",
        "pip install lightgbm\n",
        "```"
      ]
    },
    {
      "cell_type": "code",
      "execution_count": null,
      "metadata": {
        "deletable": false,
        "editable": false,
        "nbgrader": {
          "cell_type": "code",
          "checksum": "869c537c657bb4e3d65d5b6f9c5f79bc",
          "grade": false,
          "grade_id": "cell-b9cdcf1ead227170",
          "locked": true,
          "schema_version": 3,
          "solution": false,
          "task": false
        },
        "id": "WIGFfs9PfFda"
      },
      "outputs": [],
      "source": [
        "from lightgbm import LGBMClassifier\n",
        "\n",
        "\n",
        "# initialize like the following\n",
        "LGBMClassifier(objective='multiclass', n_jobs=-1, n_estimators=30)"
      ]
    },
    {
      "cell_type": "markdown",
      "metadata": {
        "deletable": false,
        "editable": false,
        "nbgrader": {
          "cell_type": "markdown",
          "checksum": "f72fabbafe2a7efd7871183069471ab4",
          "grade": false,
          "grade_id": "cell-d4c06ef490219c7f",
          "locked": true,
          "points": 0,
          "schema_version": 3,
          "solution": false,
          "task": true
        },
        "id": "dGNJF_xSfFda"
      },
      "source": [
        "#### Task 5: Use a GBM to classify n_k\n",
        "\n",
        "Recall, that for a decision-tree-based model, normalization is optional."
      ]
    },
    {
      "cell_type": "markdown",
      "metadata": {
        "deletable": false,
        "nbgrader": {
          "cell_type": "markdown",
          "checksum": "69edbb7251dd7e0d0018bff703f65d5e",
          "grade": true,
          "grade_id": "cell-572d6cf94941b847",
          "locked": false,
          "points": 0,
          "schema_version": 3,
          "solution": true,
          "task": false
        },
        "id": "afwqgyKmfFda"
      },
      "source": [
        "YOUR ANSWER HERE"
      ]
    },
    {
      "cell_type": "code",
      "execution_count": null,
      "metadata": {
        "deletable": false,
        "nbgrader": {
          "cell_type": "code",
          "checksum": "59a6ef3abf9549302083059d8f6b3e4e",
          "grade": true,
          "grade_id": "cell-7fea16197453739e",
          "locked": false,
          "points": 0,
          "schema_version": 3,
          "solution": true,
          "task": false
        },
        "id": "G2p5zC5rfFdb"
      },
      "outputs": [],
      "source": [
        "# YOUR CODE HERE\n",
        "raise NotImplementedError()"
      ]
    },
    {
      "cell_type": "code",
      "execution_count": null,
      "metadata": {
        "deletable": false,
        "nbgrader": {
          "cell_type": "code",
          "checksum": "d7a467fd0fe8da66a078fbbd93d75e90",
          "grade": true,
          "grade_id": "cell-87a861a218b84664",
          "locked": false,
          "points": 0,
          "schema_version": 3,
          "solution": true,
          "task": false
        },
        "id": "fKN3hlxafFdb"
      },
      "outputs": [],
      "source": [
        "# YOUR CODE HERE\n",
        "raise NotImplementedError()"
      ]
    },
    {
      "cell_type": "markdown",
      "metadata": {
        "deletable": false,
        "editable": false,
        "nbgrader": {
          "cell_type": "markdown",
          "checksum": "fe50943b59acf1d2c38bba4339741e39",
          "grade": false,
          "grade_id": "cell-9d97de43392fb213",
          "locked": true,
          "schema_version": 3,
          "solution": false,
          "task": false
        },
        "id": "qHCBe8SqfFdb"
      },
      "source": [
        "Note in particular, runtime and precision differences between GBMs and logistic regression, as well as in resource utilization."
      ]
    }
  ],
  "metadata": {
    "kernelspec": {
      "display_name": "Python 3",
      "language": "python",
      "name": "python3"
    },
    "language_info": {
      "codemirror_mode": {
        "name": "ipython",
        "version": 3
      },
      "file_extension": ".py",
      "mimetype": "text/x-python",
      "name": "python",
      "nbconvert_exporter": "python",
      "pygments_lexer": "ipython3",
      "version": "3.6.10"
    },
    "colab": {
      "provenance": [],
      "include_colab_link": true
    }
  },
  "nbformat": 4,
  "nbformat_minor": 0
}